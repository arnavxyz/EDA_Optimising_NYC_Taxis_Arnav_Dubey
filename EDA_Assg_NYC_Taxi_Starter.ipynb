{
  "cells": [
    {
      "cell_type": "markdown",
      "metadata": {
        "id": "view-in-github",
        "colab_type": "text"
      },
      "source": [
        "<a href=\"https://colab.research.google.com/github/arnavxyz/EDA_Optimising_NYC_Taxis_Arnav_Dubey/blob/main/EDA_Assg_NYC_Taxi_Starter.ipynb\" target=\"_parent\"><img src=\"https://colab.research.google.com/assets/colab-badge.svg\" alt=\"Open In Colab\"/></a>"
      ]
    },
    {
      "cell_type": "markdown",
      "metadata": {
        "id": "ZQl5n2IOuafL"
      },
      "source": [
        "# **New York City Yellow Taxi Data**"
      ]
    },
    {
      "cell_type": "markdown",
      "metadata": {
        "id": "DGQVIB4mEFrZ"
      },
      "source": [
        "## Objective\n",
        "In this case study you will be learning exploratory data analysis (EDA) with the help of a dataset on yellow taxi rides in New York City. This will enable you to understand why EDA is an important step in the process of data science and machine learning."
      ]
    },
    {
      "cell_type": "markdown",
      "metadata": {
        "id": "YJVMenVllLUL"
      },
      "source": [
        "## **Problem Statement**\n",
        "As an analyst at an upcoming taxi operation in NYC, you are tasked to use the 2023 taxi trip data to uncover insights that could help optimise taxi operations. The goal is to analyse patterns in the data that can inform strategic decisions to improve service efficiency, maximise revenue, and enhance passenger experience."
      ]
    },
    {
      "cell_type": "markdown",
      "metadata": {
        "id": "-OVfUMlHFkZD"
      },
      "source": [
        "## Tasks\n",
        "You need to perform the following steps for successfully completing this assignment:\n",
        "1. Data Loading\n",
        "2. Data Cleaning\n",
        "3. Exploratory Analysis: Bivariate and Multivariate\n",
        "4. Creating Visualisations to Support the Analysis\n",
        "5. Deriving Insights and Stating Conclusions"
      ]
    },
    {
      "cell_type": "markdown",
      "metadata": {
        "id": "gTxV-3GJUhWm"
      },
      "source": [
        "---"
      ]
    },
    {
      "cell_type": "markdown",
      "metadata": {
        "id": "ofebI8ITG-Li"
      },
      "source": [
        "**NOTE:** The marks given along with headings and sub-headings are cumulative marks for those particular headings/sub-headings.<br>\n",
        "\n",
        "The actual marks for each task are specified within the tasks themselves.\n",
        "\n",
        "For example, marks given with heading *2* or sub-heading *2.1* are the cumulative marks, for your reference only. <br>\n",
        "\n",
        "The marks you will receive for completing tasks are given with the tasks.\n",
        "\n",
        "Suppose the marks for two tasks are: 3 marks for 2.1.1 and 2 marks for 3.2.2, or\n",
        "* 2.1.1 [3 marks]\n",
        "* 3.2.2 [2 marks]\n",
        "\n",
        "then, you will earn 3 marks for completing task 2.1.1 and 2 marks for completing task 3.2.2.\n"
      ]
    },
    {
      "cell_type": "markdown",
      "metadata": {
        "id": "YdQjht7dUiHt"
      },
      "source": [
        "---"
      ]
    },
    {
      "cell_type": "markdown",
      "metadata": {
        "id": "0eaCZjHIvfuI"
      },
      "source": [
        "## Data Understanding\n",
        "The yellow taxi trip records include fields capturing pick-up and drop-off dates/times, pick-up and drop-off locations, trip distances, itemized fares, rate types, payment types, and driver-reported passenger counts.\n",
        "\n",
        "The data is stored in Parquet format (*.parquet*). The dataset is from 2009 to 2024. However, for this assignment, we will only be using the data from 2023.\n",
        "\n",
        "The data for each month is present in a different parquet file. You will get twelve files for each of the months in 2023.\n",
        "\n",
        "The data was collected and provided to the NYC Taxi and Limousine Commission (TLC) by technology providers like vendors and taxi hailing apps. <br>\n",
        "\n",
        "You can find the link to the TLC trip records page here: https://www.nyc.gov/site/tlc/about/tlc-trip-record-data.page"
      ]
    },
    {
      "cell_type": "markdown",
      "metadata": {
        "id": "LI6qC5IDxZU1"
      },
      "source": [
        "###  Data Description\n",
        "You can find the data description here: [Data Dictionary](https://www.nyc.gov/assets/tlc/downloads/pdf/data_dictionary_trip_records_yellow.pdf)"
      ]
    },
    {
      "cell_type": "markdown",
      "metadata": {
        "id": "FafCzrDuxHg2"
      },
      "source": [
        "**Trip Records**\n",
        "\n",
        "\n",
        "\n",
        "|Field Name       |description |\n",
        "|:----------------|:-----------|\n",
        "| VendorID | A code indicating the TPEP provider that provided the record. <br> 1= Creative Mobile Technologies, LLC; <br> 2= VeriFone Inc. |\n",
        "| tpep_pickup_datetime | The date and time when the meter was engaged.  |\n",
        "| tpep_dropoff_datetime | The date and time when the meter was disengaged.   |\n",
        "| Passenger_count | The number of passengers in the vehicle. <br> This is a driver-entered value. |\n",
        "| Trip_distance | The elapsed trip distance in miles reported by the taximeter. |\n",
        "| PULocationID | TLC Taxi Zone in which the taximeter was engaged |\n",
        "| DOLocationID | TLC Taxi Zone in which the taximeter was disengaged |\n",
        "|RateCodeID |The final rate code in effect at the end of the trip.<br> 1 = Standard rate <br> 2 = JFK <br> 3 = Newark <br>4 = Nassau or Westchester <br>5 = Negotiated fare <br>6 = Group ride |\n",
        "|Store_and_fwd_flag |This flag indicates whether the trip record was held in vehicle memory before sending to the vendor, aka “store and forward,” because the vehicle did not have a connection to the server.  <br>Y= store and forward trip <br>N= not a store and forward trip |\n",
        "|Payment_type| A numeric code signifying how the passenger paid for the trip. <br> 1 = Credit card <br>2 = Cash <br>3 = No charge <br>4 = Dispute <br>5 = Unknown <br>6 = Voided trip |\n",
        "|Fare_amount| The time-and-distance fare calculated by the meter. <br>Extra Miscellaneous extras and surcharges.  Currently, this only includes the 0.50 and 1 USD rush hour and overnight charges. |\n",
        "|MTA_tax |0.50 USD MTA tax that is automatically triggered based on the metered rate in use. |\n",
        "|Improvement_surcharge | 0.30 USD improvement surcharge assessed trips at the flag drop. The improvement surcharge began being levied in 2015. |\n",
        "|Tip_amount |Tip amount – This field is automatically populated for credit card tips. Cash tips are not included. |\n",
        "| Tolls_amount | Total amount of all tolls paid in trip.  |\n",
        "| total_amount | The total amount charged to passengers. Does not include cash tips. |\n",
        "|Congestion_Surcharge |Total amount collected in trip for NYS congestion surcharge. |\n",
        "| Airport_fee | 1.25 USD for pick up only at LaGuardia and John F. Kennedy Airports|\n",
        "\n",
        "Although the amounts of extra charges and taxes applied are specified in the data dictionary, you will see that some cases have different values of these charges in the actual data."
      ]
    },
    {
      "cell_type": "markdown",
      "metadata": {
        "id": "mL-FWYFnVEdE"
      },
      "source": [
        "**Taxi Zones**\n",
        "\n",
        "Each of the trip records contains a field corresponding to the location of the pickup or drop-off of the trip, populated by numbers ranging from 1-263.\n",
        "\n",
        "These numbers correspond to taxi zones, which may be downloaded as a table or map/shapefile and matched to the trip records using a join.\n",
        "\n",
        "This is covered in more detail in later sections."
      ]
    },
    {
      "cell_type": "markdown",
      "metadata": {
        "id": "z66W3s51U0gF"
      },
      "source": [
        "---"
      ]
    },
    {
      "cell_type": "markdown",
      "metadata": {
        "id": "Kw-WRzBfyS7j"
      },
      "source": [
        "## **1** Data Preparation\n",
        "\n",
        "<font color = red>[5 marks]</font> <br>"
      ]
    },
    {
      "cell_type": "markdown",
      "metadata": {
        "id": "nM2X-s6lycvQ"
      },
      "source": [
        "### Import Libraries"
      ]
    },
    {
      "cell_type": "code",
      "execution_count": 1,
      "metadata": {
        "id": "juReqsAzEdW3"
      },
      "outputs": [],
      "source": [
        "# Import warnings\n",
        "\n",
        "import warnings"
      ]
    },
    {
      "cell_type": "code",
      "execution_count": 2,
      "metadata": {
        "id": "3XZjOlJiy1dr"
      },
      "outputs": [],
      "source": [
        "# Import the libraries you will be using for analysis\n",
        "import numpy as np\n",
        "import pandas as pd\n",
        "import matplotlib.pyplot as plt\n",
        "import seaborn as sns"
      ]
    },
    {
      "cell_type": "code",
      "execution_count": 3,
      "metadata": {
        "id": "NsH5LNrSgW9q",
        "colab": {
          "base_uri": "https://localhost:8080/"
        },
        "outputId": "a2e449dd-902d-4050-d611-a222bf1edd4b"
      },
      "outputs": [
        {
          "output_type": "stream",
          "name": "stdout",
          "text": [
            "numpy version: 1.26.4\n",
            "pandas version: 2.2.2\n",
            "matplotlib version: 3.10.0\n",
            "seaborn version: 0.13.2\n"
          ]
        }
      ],
      "source": [
        "# Recommended versions\n",
        "# numpy version: 1.26.4\n",
        "# pandas version: 2.2.2\n",
        "# matplotlib version: 3.10.0\n",
        "# seaborn version: 0.13.2\n",
        "\n",
        "# Check versions\n",
        "print(\"numpy version:\", np.__version__)\n",
        "print(\"pandas version:\", pd.__version__)\n",
        "print(\"matplotlib version:\", plt.matplotlib.__version__)\n",
        "print(\"seaborn version:\", sns.__version__)"
      ]
    },
    {
      "cell_type": "markdown",
      "metadata": {
        "id": "NgHgbPIepaYl"
      },
      "source": [
        "### **1.1** Load the dataset\n",
        "<font color = red>[5 marks]</font> <br>"
      ]
    },
    {
      "cell_type": "markdown",
      "metadata": {
        "id": "KrGluF_gpeHs"
      },
      "source": [
        "You will see twelve files, one for each month.\n",
        "\n",
        "To read parquet files with Pandas, you have to follow a similar syntax as that for CSV files.\n",
        "\n",
        "`df = pd.read_parquet('file.parquet')`"
      ]
    },
    {
      "cell_type": "code",
      "execution_count": 4,
      "metadata": {
        "id": "kIpIsuSSzCp9",
        "colab": {
          "base_uri": "https://localhost:8080/"
        },
        "outputId": "6cc6c488-49ea-407e-9727-d2233d831b1e"
      },
      "outputs": [
        {
          "output_type": "stream",
          "name": "stdout",
          "text": [
            "<class 'pandas.core.frame.DataFrame'>\n",
            "Index: 3041714 entries, 0 to 3066765\n",
            "Data columns (total 19 columns):\n",
            " #   Column                 Dtype         \n",
            "---  ------                 -----         \n",
            " 0   VendorID               int64         \n",
            " 1   tpep_pickup_datetime   datetime64[us]\n",
            " 2   tpep_dropoff_datetime  datetime64[us]\n",
            " 3   passenger_count        float64       \n",
            " 4   trip_distance          float64       \n",
            " 5   RatecodeID             float64       \n",
            " 6   store_and_fwd_flag     object        \n",
            " 7   PULocationID           int64         \n",
            " 8   DOLocationID           int64         \n",
            " 9   payment_type           int64         \n",
            " 10  fare_amount            float64       \n",
            " 11  extra                  float64       \n",
            " 12  mta_tax                float64       \n",
            " 13  tip_amount             float64       \n",
            " 14  tolls_amount           float64       \n",
            " 15  improvement_surcharge  float64       \n",
            " 16  total_amount           float64       \n",
            " 17  congestion_surcharge   float64       \n",
            " 18  airport_fee            float64       \n",
            "dtypes: datetime64[us](2), float64(12), int64(4), object(1)\n",
            "memory usage: 464.1+ MB\n"
          ]
        }
      ],
      "source": [
        "# Try loading one file\n",
        "\n",
        "# df = pd.read_parquet('2023-1.parquet')\n",
        "# df.info()\n",
        "\n",
        "df = pd.read_parquet('2023-1.parquet')\n",
        "df.info()"
      ]
    },
    {
      "cell_type": "markdown",
      "metadata": {
        "id": "eh-keWIyqcyr"
      },
      "source": [
        "How many rows are there? Do you think handling such a large number of rows is computationally feasible when we have to combine the data for all twelve months into one?\n",
        "\n",
        "To handle this, we need to sample a fraction of data from each of the files. How to go about that? Think of a way to select only some portion of the data from each month's file that accurately represents the trends."
      ]
    },
    {
      "cell_type": "code",
      "source": [
        "from google.colab import drive\n",
        "drive.mount('/content/drive')"
      ],
      "metadata": {
        "colab": {
          "base_uri": "https://localhost:8080/"
        },
        "id": "FgwW8YY6kZY7",
        "outputId": "ccb0017f-a0f1-461a-8515-46269de6291e"
      },
      "execution_count": 10,
      "outputs": [
        {
          "output_type": "stream",
          "name": "stdout",
          "text": [
            "Drive already mounted at /content/drive; to attempt to forcibly remount, call drive.mount(\"/content/drive\", force_remount=True).\n"
          ]
        }
      ]
    },
    {
      "cell_type": "markdown",
      "metadata": {
        "id": "zHx7lh_3QGmj"
      },
      "source": [
        "#### Sampling the Data\n",
        "> One way is to take a small percentage of entries for pickup in every hour of a date. So, for all the days in a month, we can iterate through the hours and select 5% values randomly from those. Use `tpep_pickup_datetime` for this. Separate date and hour from the datetime values and then for each date, select some fraction of trips for each of the 24 hours.\n",
        "\n",
        "To sample data, you can use the `sample()` method. Follow this syntax:\n",
        "\n",
        "```Python\n",
        "# sampled_data is an empty DF to keep appending sampled data of each hour\n",
        "# hour_data is the DF of entries for an hour 'X' on a date 'Y'\n",
        "\n",
        "sample = hour_data.sample(frac = 0.05, random_state = 42)\n",
        "# sample 0.05 of the hour_data\n",
        "# random_state is just a seed for sampling, you can define it yourself\n",
        "\n",
        "sampled_data = pd.concat([sampled_data, sample]) # adding data for this hour to the DF\n",
        "```\n",
        "\n",
        "This *sampled_data* will contain 5% values selected at random from each hour.\n",
        "\n",
        "Note that the code given above is only the part that will be used for sampling and not the complete code required for sampling and combining the data files.\n",
        "\n",
        "Keep in mind that you sample by date AND hour, not just hour. (Why?)"
      ]
    },
    {
      "cell_type": "markdown",
      "metadata": {
        "id": "3zog80nsqvKp"
      },
      "source": [
        "---"
      ]
    },
    {
      "cell_type": "markdown",
      "metadata": {
        "id": "Fp24-wpQrlC5"
      },
      "source": [
        "**1.1.1** <font color = red>[5 marks]</font> <br>\n",
        "Figure out how to sample and combine the files."
      ]
    },
    {
      "cell_type": "markdown",
      "metadata": {
        "id": "vRGOnciGOvq0"
      },
      "source": [
        "**Note:** It is not mandatory to use the method specified above. While sampling, you only need to make sure that your sampled data represents the overall data of all the months accurately."
      ]
    },
    {
      "cell_type": "code",
      "execution_count": null,
      "metadata": {
        "id": "3cpuzPFvP2iC"
      },
      "outputs": [],
      "source": [
        "# Sample the data\n",
        "# It is recommmended to not load all the files at once to avoid memory overload"
      ]
    },
    {
      "cell_type": "code",
      "execution_count": null,
      "metadata": {
        "id": "h3x5bCWmarTO"
      },
      "outputs": [],
      "source": [
        "# from google.colab import drive\n",
        "# drive.mount('/content/drive')"
      ]
    },
    {
      "cell_type": "code",
      "execution_count": null,
      "metadata": {
        "id": "t1EXP0PHzPs0"
      },
      "outputs": [],
      "source": [
        "# # Take a small percentage of entries from each hour of every date.\n",
        "# # Iterating through the monthly data:\n",
        "# #   read a month file -> day -> hour: append sampled data -> move to next hour -> move to next day after 24 hours -> move to next month file\n",
        "# # Create a single dataframe for the year combining all the monthly data\n",
        "\n",
        "# # Select the folder having data files\n",
        "# import os\n",
        "\n",
        "# # Select the folder having data files\n",
        "# os.chdir('/content/Assignments/EDA/data_NYC_Taxi/trip_records')\n",
        "\n",
        "# # Create a list of all the twelve files to read\n",
        "# file_list = os.listdir()\n",
        "\n",
        "# # initialise an empty dataframe\n",
        "# df = pd.DataFrame()\n",
        "\n",
        "\n",
        "# # iterate through the list of files and sample one by one:\n",
        "# for file_name in file_list:\n",
        "#     try:\n",
        "#         # file path for the current file\n",
        "#         file_path = os.path.join(os.getcwd(), file_name)\n",
        "\n",
        "#         # Reading the current file\n",
        "\n",
        "\n",
        "\n",
        "#         # We will store the sampled data for the current date in this df by appending the sampled data from each hour to this\n",
        "#         # After completing iteration through each date, we will append this data to the final dataframe.\n",
        "#         sampled_data = pd.DataFrame()\n",
        "\n",
        "#         # Loop through dates and then loop through every hour of each date\n",
        "\n",
        "#             # Iterate through each hour of the selected date\n",
        "\n",
        "#                 # Sample 5% of the hourly data randomly\n",
        "\n",
        "#                 # add data of this hour to the dataframe\n",
        "\n",
        "#         # Concatenate the sampled data of all the dates to a single dataframe\n",
        "#         df = # we initialised this empty DF earlier\n",
        "\n",
        "#     except Exception as e:\n",
        "#         print(f\"Error reading file {file_name}: {e}\")"
      ]
    },
    {
      "cell_type": "code",
      "source": [
        "import glob\n",
        "\n",
        "# List all Parquet files from January to December\n",
        "file_paths = [f\"/content/2023-{i}.parquet\" for i in range(1, 13)]\n",
        "\n",
        "# Initialize an empty list to store sampled data\n",
        "sampled_dfs = []\n",
        "\n",
        "for file in file_paths:\n",
        "    print(f\"Processing {file}...\")\n",
        "\n",
        "    # Load the Parquet file\n",
        "    df = pd.read_parquet(file, engine=\"pyarrow\")\n",
        "\n",
        "    # Extract date and hour from the pickup datetime\n",
        "    df[\"pickup_date\"] = df[\"tpep_pickup_datetime\"].dt.date\n",
        "    df[\"pickup_hour\"] = df[\"tpep_pickup_datetime\"].dt.hour\n",
        "\n",
        "    # Group by date and hour, then sample 5% from each group\n",
        "    sampled_df = df.groupby([\"pickup_date\", \"pickup_hour\"], group_keys=False).apply(lambda x: x.sample(frac=0.05, random_state=42))\n",
        "\n",
        "    # Append sampled data to the list\n",
        "    sampled_dfs.append(sampled_df)\n",
        "\n",
        "# Concatenate all sampled data into a final dataset\n",
        "final_sampled_df = pd.concat(sampled_dfs, ignore_index=True)\n",
        "\n",
        "# Save to a new Parquet file\n",
        "final_sampled_df.to_parquet(\"/content/sampled_nyc_taxi_2023.parquet\", engine=\"pyarrow\")\n",
        "\n",
        "print(\"Sampling complete. Final dataset saved at /content/sampled_nyc_taxi_2023.parquet\")\n"
      ],
      "metadata": {
        "colab": {
          "base_uri": "https://localhost:8080/"
        },
        "id": "oiYukkLalHZW",
        "outputId": "35d50984-a681-4c24-9b93-1b97725adc23"
      },
      "execution_count": 9,
      "outputs": [
        {
          "output_type": "stream",
          "name": "stdout",
          "text": [
            "Processing /content/2023-1.parquet...\n"
          ]
        },
        {
          "output_type": "stream",
          "name": "stderr",
          "text": [
            "<ipython-input-9-49ecb014ae68>:20: DeprecationWarning: DataFrameGroupBy.apply operated on the grouping columns. This behavior is deprecated, and in a future version of pandas the grouping columns will be excluded from the operation. Either pass `include_groups=False` to exclude the groupings or explicitly select the grouping columns after groupby to silence this warning.\n",
            "  sampled_df = df.groupby([\"pickup_date\", \"pickup_hour\"], group_keys=False).apply(lambda x: x.sample(frac=0.05, random_state=42))\n"
          ]
        },
        {
          "output_type": "stream",
          "name": "stdout",
          "text": [
            "Processing /content/2023-2.parquet...\n"
          ]
        },
        {
          "output_type": "stream",
          "name": "stderr",
          "text": [
            "<ipython-input-9-49ecb014ae68>:20: DeprecationWarning: DataFrameGroupBy.apply operated on the grouping columns. This behavior is deprecated, and in a future version of pandas the grouping columns will be excluded from the operation. Either pass `include_groups=False` to exclude the groupings or explicitly select the grouping columns after groupby to silence this warning.\n",
            "  sampled_df = df.groupby([\"pickup_date\", \"pickup_hour\"], group_keys=False).apply(lambda x: x.sample(frac=0.05, random_state=42))\n"
          ]
        },
        {
          "output_type": "stream",
          "name": "stdout",
          "text": [
            "Processing /content/2023-3.parquet...\n"
          ]
        },
        {
          "output_type": "stream",
          "name": "stderr",
          "text": [
            "<ipython-input-9-49ecb014ae68>:20: DeprecationWarning: DataFrameGroupBy.apply operated on the grouping columns. This behavior is deprecated, and in a future version of pandas the grouping columns will be excluded from the operation. Either pass `include_groups=False` to exclude the groupings or explicitly select the grouping columns after groupby to silence this warning.\n",
            "  sampled_df = df.groupby([\"pickup_date\", \"pickup_hour\"], group_keys=False).apply(lambda x: x.sample(frac=0.05, random_state=42))\n"
          ]
        },
        {
          "output_type": "stream",
          "name": "stdout",
          "text": [
            "Processing /content/2023-4.parquet...\n"
          ]
        },
        {
          "output_type": "stream",
          "name": "stderr",
          "text": [
            "<ipython-input-9-49ecb014ae68>:20: DeprecationWarning: DataFrameGroupBy.apply operated on the grouping columns. This behavior is deprecated, and in a future version of pandas the grouping columns will be excluded from the operation. Either pass `include_groups=False` to exclude the groupings or explicitly select the grouping columns after groupby to silence this warning.\n",
            "  sampled_df = df.groupby([\"pickup_date\", \"pickup_hour\"], group_keys=False).apply(lambda x: x.sample(frac=0.05, random_state=42))\n"
          ]
        },
        {
          "output_type": "stream",
          "name": "stdout",
          "text": [
            "Processing /content/2023-5.parquet...\n"
          ]
        },
        {
          "output_type": "stream",
          "name": "stderr",
          "text": [
            "<ipython-input-9-49ecb014ae68>:20: DeprecationWarning: DataFrameGroupBy.apply operated on the grouping columns. This behavior is deprecated, and in a future version of pandas the grouping columns will be excluded from the operation. Either pass `include_groups=False` to exclude the groupings or explicitly select the grouping columns after groupby to silence this warning.\n",
            "  sampled_df = df.groupby([\"pickup_date\", \"pickup_hour\"], group_keys=False).apply(lambda x: x.sample(frac=0.05, random_state=42))\n"
          ]
        },
        {
          "output_type": "stream",
          "name": "stdout",
          "text": [
            "Processing /content/2023-6.parquet...\n"
          ]
        },
        {
          "output_type": "stream",
          "name": "stderr",
          "text": [
            "<ipython-input-9-49ecb014ae68>:20: DeprecationWarning: DataFrameGroupBy.apply operated on the grouping columns. This behavior is deprecated, and in a future version of pandas the grouping columns will be excluded from the operation. Either pass `include_groups=False` to exclude the groupings or explicitly select the grouping columns after groupby to silence this warning.\n",
            "  sampled_df = df.groupby([\"pickup_date\", \"pickup_hour\"], group_keys=False).apply(lambda x: x.sample(frac=0.05, random_state=42))\n"
          ]
        },
        {
          "output_type": "stream",
          "name": "stdout",
          "text": [
            "Processing /content/2023-7.parquet...\n"
          ]
        },
        {
          "output_type": "stream",
          "name": "stderr",
          "text": [
            "<ipython-input-9-49ecb014ae68>:20: DeprecationWarning: DataFrameGroupBy.apply operated on the grouping columns. This behavior is deprecated, and in a future version of pandas the grouping columns will be excluded from the operation. Either pass `include_groups=False` to exclude the groupings or explicitly select the grouping columns after groupby to silence this warning.\n",
            "  sampled_df = df.groupby([\"pickup_date\", \"pickup_hour\"], group_keys=False).apply(lambda x: x.sample(frac=0.05, random_state=42))\n"
          ]
        },
        {
          "output_type": "stream",
          "name": "stdout",
          "text": [
            "Processing /content/2023-8.parquet...\n"
          ]
        },
        {
          "output_type": "stream",
          "name": "stderr",
          "text": [
            "<ipython-input-9-49ecb014ae68>:20: DeprecationWarning: DataFrameGroupBy.apply operated on the grouping columns. This behavior is deprecated, and in a future version of pandas the grouping columns will be excluded from the operation. Either pass `include_groups=False` to exclude the groupings or explicitly select the grouping columns after groupby to silence this warning.\n",
            "  sampled_df = df.groupby([\"pickup_date\", \"pickup_hour\"], group_keys=False).apply(lambda x: x.sample(frac=0.05, random_state=42))\n"
          ]
        },
        {
          "output_type": "stream",
          "name": "stdout",
          "text": [
            "Processing /content/2023-9.parquet...\n"
          ]
        },
        {
          "output_type": "stream",
          "name": "stderr",
          "text": [
            "<ipython-input-9-49ecb014ae68>:20: DeprecationWarning: DataFrameGroupBy.apply operated on the grouping columns. This behavior is deprecated, and in a future version of pandas the grouping columns will be excluded from the operation. Either pass `include_groups=False` to exclude the groupings or explicitly select the grouping columns after groupby to silence this warning.\n",
            "  sampled_df = df.groupby([\"pickup_date\", \"pickup_hour\"], group_keys=False).apply(lambda x: x.sample(frac=0.05, random_state=42))\n"
          ]
        },
        {
          "output_type": "stream",
          "name": "stdout",
          "text": [
            "Processing /content/2023-10.parquet...\n"
          ]
        },
        {
          "output_type": "stream",
          "name": "stderr",
          "text": [
            "<ipython-input-9-49ecb014ae68>:20: DeprecationWarning: DataFrameGroupBy.apply operated on the grouping columns. This behavior is deprecated, and in a future version of pandas the grouping columns will be excluded from the operation. Either pass `include_groups=False` to exclude the groupings or explicitly select the grouping columns after groupby to silence this warning.\n",
            "  sampled_df = df.groupby([\"pickup_date\", \"pickup_hour\"], group_keys=False).apply(lambda x: x.sample(frac=0.05, random_state=42))\n"
          ]
        },
        {
          "output_type": "stream",
          "name": "stdout",
          "text": [
            "Processing /content/2023-11.parquet...\n"
          ]
        },
        {
          "output_type": "stream",
          "name": "stderr",
          "text": [
            "<ipython-input-9-49ecb014ae68>:20: DeprecationWarning: DataFrameGroupBy.apply operated on the grouping columns. This behavior is deprecated, and in a future version of pandas the grouping columns will be excluded from the operation. Either pass `include_groups=False` to exclude the groupings or explicitly select the grouping columns after groupby to silence this warning.\n",
            "  sampled_df = df.groupby([\"pickup_date\", \"pickup_hour\"], group_keys=False).apply(lambda x: x.sample(frac=0.05, random_state=42))\n"
          ]
        },
        {
          "output_type": "stream",
          "name": "stdout",
          "text": [
            "Processing /content/2023-12.parquet...\n"
          ]
        },
        {
          "output_type": "stream",
          "name": "stderr",
          "text": [
            "<ipython-input-9-49ecb014ae68>:20: DeprecationWarning: DataFrameGroupBy.apply operated on the grouping columns. This behavior is deprecated, and in a future version of pandas the grouping columns will be excluded from the operation. Either pass `include_groups=False` to exclude the groupings or explicitly select the grouping columns after groupby to silence this warning.\n",
            "  sampled_df = df.groupby([\"pickup_date\", \"pickup_hour\"], group_keys=False).apply(lambda x: x.sample(frac=0.05, random_state=42))\n"
          ]
        },
        {
          "output_type": "stream",
          "name": "stdout",
          "text": [
            "Sampling complete. Final dataset saved at /content/sampled_nyc_taxi_2023.parquet\n"
          ]
        }
      ]
    },
    {
      "cell_type": "code",
      "source": [
        "final_sampled_df.to_csv(\"/content/sampled_nyc_taxi_2023.csv\", index=False)"
      ],
      "metadata": {
        "id": "ibNgxbXG8s26"
      },
      "execution_count": 24,
      "outputs": []
    },
    {
      "cell_type": "markdown",
      "metadata": {
        "id": "Sej6pZkzw2AK"
      },
      "source": [
        "After combining the data files into one DataFrame, convert the new DataFrame to a CSV or parquet file and store it to use directly.\n",
        "\n",
        "Ideally, you can try keeping the total entries to around 250,000 to 300,000."
      ]
    },
    {
      "cell_type": "code",
      "execution_count": null,
      "metadata": {
        "id": "okaVAsdPxJow"
      },
      "outputs": [],
      "source": [
        "# Store the df in csv/parquet\n",
        "# df.to_parquet('')"
      ]
    },
    {
      "cell_type": "markdown",
      "metadata": {
        "id": "QaOS3H9izZ0N"
      },
      "source": [
        "## **2** Data Cleaning\n",
        "<font color = red>[30 marks]</font> <br>"
      ]
    },
    {
      "cell_type": "markdown",
      "metadata": {
        "id": "5y3PKWqhxRA9"
      },
      "source": [
        "Now we can load the new data directly."
      ]
    },
    {
      "cell_type": "code",
      "execution_count": null,
      "metadata": {
        "id": "fbzmFKyn1780"
      },
      "outputs": [],
      "source": [
        "# df.head()"
      ]
    },
    {
      "cell_type": "code",
      "execution_count": null,
      "metadata": {
        "id": "FOuOL0SDxQHd"
      },
      "outputs": [],
      "source": [
        "# Load the new data file\n",
        "\n",
        "final_sampled_df.head()"
      ]
    },
    {
      "cell_type": "code",
      "execution_count": 12,
      "metadata": {
        "id": "FH83U4A49ErC",
        "colab": {
          "base_uri": "https://localhost:8080/"
        },
        "outputId": "a72d2596-069d-48db-c592-e5e3bb94612a"
      },
      "outputs": [
        {
          "output_type": "stream",
          "name": "stdout",
          "text": [
            "<class 'pandas.core.frame.DataFrame'>\n",
            "RangeIndex: 1896400 entries, 0 to 1896399\n",
            "Data columns (total 22 columns):\n",
            " #   Column                 Dtype         \n",
            "---  ------                 -----         \n",
            " 0   VendorID               int64         \n",
            " 1   tpep_pickup_datetime   datetime64[us]\n",
            " 2   tpep_dropoff_datetime  datetime64[us]\n",
            " 3   passenger_count        float64       \n",
            " 4   trip_distance          float64       \n",
            " 5   RatecodeID             float64       \n",
            " 6   store_and_fwd_flag     object        \n",
            " 7   PULocationID           int64         \n",
            " 8   DOLocationID           int64         \n",
            " 9   payment_type           int64         \n",
            " 10  fare_amount            float64       \n",
            " 11  extra                  float64       \n",
            " 12  mta_tax                float64       \n",
            " 13  tip_amount             float64       \n",
            " 14  tolls_amount           float64       \n",
            " 15  improvement_surcharge  float64       \n",
            " 16  total_amount           float64       \n",
            " 17  congestion_surcharge   float64       \n",
            " 18  airport_fee            float64       \n",
            " 19  pickup_date            object        \n",
            " 20  pickup_hour            int32         \n",
            " 21  Airport_fee            float64       \n",
            "dtypes: datetime64[us](2), float64(13), int32(1), int64(4), object(2)\n",
            "memory usage: 311.1+ MB\n"
          ]
        }
      ],
      "source": [
        "# df.info()\n",
        "final_sampled_df.info()"
      ]
    },
    {
      "cell_type": "markdown",
      "metadata": {
        "id": "HZvPSwJx0S3K"
      },
      "source": [
        "#### **2.1** Fixing Columns\n",
        "<font color = red>[10 marks]</font> <br>\n",
        "\n",
        "Fix/drop any columns as you seem necessary in the below sections"
      ]
    },
    {
      "cell_type": "markdown",
      "metadata": {
        "id": "358takCd2FiM"
      },
      "source": [
        "**2.1.1** <font color = red>[2 marks]</font> <br>\n",
        "\n",
        "Fix the index and drop unnecessary columns"
      ]
    },
    {
      "cell_type": "code",
      "execution_count": 20,
      "metadata": {
        "id": "KHHFyZxa2PEM",
        "colab": {
          "base_uri": "https://localhost:8080/"
        },
        "outputId": "29822986-3d43-470f-d08c-24415024a96d"
      },
      "outputs": [
        {
          "output_type": "stream",
          "name": "stdout",
          "text": [
            "airport_fee    92.17027\n",
            "dtype: float64\n"
          ]
        }
      ],
      "source": [
        "# Fix the index and drop any columns that are not needed\n",
        "\n",
        "# Reset index\n",
        "final_sampled_df.reset_index(drop=True, inplace=True)\n",
        "\n",
        "# Check percentage of missing values in each column\n",
        "missing_values = final_sampled_df.isnull().mean() * 100\n",
        "print(missing_values[missing_values > 50])  # Show columns with more than 50% missing values"
      ]
    },
    {
      "cell_type": "code",
      "source": [
        "final_sampled_df.describe()"
      ],
      "metadata": {
        "colab": {
          "base_uri": "https://localhost:8080/",
          "height": 390
        },
        "id": "7SPIRI_N75as",
        "outputId": "22b32c16-bd0b-4c48-d296-d17cd8abfbe6"
      },
      "execution_count": 22,
      "outputs": [
        {
          "output_type": "execute_result",
          "data": {
            "text/plain": [
              "           VendorID        tpep_pickup_datetime       tpep_dropoff_datetime  \\\n",
              "count  1.896400e+06                     1896400                     1896400   \n",
              "mean   1.733026e+00  2023-07-02 19:59:52.930795  2023-07-02 20:17:18.919562   \n",
              "min    1.000000e+00         2022-12-31 23:51:30         2022-12-31 23:56:06   \n",
              "25%    1.000000e+00  2023-04-02 16:10:08.750000  2023-04-02 16:27:43.500000   \n",
              "50%    2.000000e+00  2023-06-27 15:44:22.500000         2023-06-27 16:01:15   \n",
              "75%    2.000000e+00         2023-10-06 19:37:45         2023-10-06 19:53:39   \n",
              "max    6.000000e+00         2023-12-31 23:57:51         2024-01-01 20:50:55   \n",
              "std    4.476401e-01                         NaN                         NaN   \n",
              "\n",
              "       passenger_count  trip_distance    RatecodeID  PULocationID  \\\n",
              "count     1.831526e+06   1.896400e+06  1.831526e+06  1.896400e+06   \n",
              "mean      1.369215e+00   3.858293e+00  1.634694e+00  1.652814e+02   \n",
              "min       0.000000e+00   0.000000e+00  1.000000e+00  1.000000e+00   \n",
              "25%       1.000000e+00   1.050000e+00  1.000000e+00  1.320000e+02   \n",
              "50%       1.000000e+00   1.790000e+00  1.000000e+00  1.620000e+02   \n",
              "75%       1.000000e+00   3.400000e+00  1.000000e+00  2.340000e+02   \n",
              "max       9.000000e+00   1.263605e+05  9.900000e+01  2.650000e+02   \n",
              "std       8.927560e-01   1.294085e+02  7.393915e+00  6.400038e+01   \n",
              "\n",
              "       DOLocationID  payment_type   fare_amount         extra       mta_tax  \\\n",
              "count  1.896400e+06  1.896400e+06  1.896400e+06  1.896400e+06  1.896400e+06   \n",
              "mean   1.640515e+02  1.163817e+00  1.991935e+01  1.588018e+00  4.952796e-01   \n",
              "min    1.000000e+00  0.000000e+00  0.000000e+00 -2.500000e+00 -5.000000e-01   \n",
              "25%    1.140000e+02  1.000000e+00  9.300000e+00  0.000000e+00  5.000000e-01   \n",
              "50%    1.620000e+02  1.000000e+00  1.350000e+01  1.000000e+00  5.000000e-01   \n",
              "75%    2.340000e+02  1.000000e+00  2.190000e+01  2.500000e+00  5.000000e-01   \n",
              "max    2.650000e+02  4.000000e+00  1.431635e+05  2.080000e+01  4.000000e+00   \n",
              "std    6.980207e+01  5.081384e-01  1.055371e+02  1.829200e+00  4.885128e-02   \n",
              "\n",
              "         tip_amount  tolls_amount  improvement_surcharge  total_amount  \\\n",
              "count  1.896400e+06  1.896400e+06           1.896400e+06  1.896400e+06   \n",
              "mean   3.547011e+00  5.965338e-01           9.989706e-01  2.898186e+01   \n",
              "min    0.000000e+00  0.000000e+00          -1.000000e+00 -5.750000e+00   \n",
              "25%    1.000000e+00  0.000000e+00           1.000000e+00  1.596000e+01   \n",
              "50%    2.850000e+00  0.000000e+00           1.000000e+00  2.100000e+01   \n",
              "75%    4.420000e+00  0.000000e+00           1.000000e+00  3.094000e+01   \n",
              "max    2.230800e+02  1.430000e+02           1.000000e+00  1.431675e+05   \n",
              "std    4.054882e+00  2.187878e+00           3.112072e-02  1.064162e+02   \n",
              "\n",
              "       congestion_surcharge   airport_fee   pickup_hour  \n",
              "count          1.831526e+06  1.831526e+06  1.896400e+06  \n",
              "mean           2.307524e+00  1.428976e-01  1.426504e+01  \n",
              "min           -2.500000e+00 -1.750000e+00  0.000000e+00  \n",
              "25%            2.500000e+00  0.000000e+00  1.100000e+01  \n",
              "50%            2.500000e+00  0.000000e+00  1.500000e+01  \n",
              "75%            2.500000e+00  0.000000e+00  1.900000e+01  \n",
              "max            2.500000e+00  1.750000e+00  2.300000e+01  \n",
              "std            6.667267e-01  4.648725e-01  5.807381e+00  "
            ],
            "text/html": [
              "\n",
              "  <div id=\"df-6d0a09de-40d2-49eb-b435-5e7f1c3db49b\" class=\"colab-df-container\">\n",
              "    <div>\n",
              "<style scoped>\n",
              "    .dataframe tbody tr th:only-of-type {\n",
              "        vertical-align: middle;\n",
              "    }\n",
              "\n",
              "    .dataframe tbody tr th {\n",
              "        vertical-align: top;\n",
              "    }\n",
              "\n",
              "    .dataframe thead th {\n",
              "        text-align: right;\n",
              "    }\n",
              "</style>\n",
              "<table border=\"1\" class=\"dataframe\">\n",
              "  <thead>\n",
              "    <tr style=\"text-align: right;\">\n",
              "      <th></th>\n",
              "      <th>VendorID</th>\n",
              "      <th>tpep_pickup_datetime</th>\n",
              "      <th>tpep_dropoff_datetime</th>\n",
              "      <th>passenger_count</th>\n",
              "      <th>trip_distance</th>\n",
              "      <th>RatecodeID</th>\n",
              "      <th>PULocationID</th>\n",
              "      <th>DOLocationID</th>\n",
              "      <th>payment_type</th>\n",
              "      <th>fare_amount</th>\n",
              "      <th>extra</th>\n",
              "      <th>mta_tax</th>\n",
              "      <th>tip_amount</th>\n",
              "      <th>tolls_amount</th>\n",
              "      <th>improvement_surcharge</th>\n",
              "      <th>total_amount</th>\n",
              "      <th>congestion_surcharge</th>\n",
              "      <th>airport_fee</th>\n",
              "      <th>pickup_hour</th>\n",
              "    </tr>\n",
              "  </thead>\n",
              "  <tbody>\n",
              "    <tr>\n",
              "      <th>count</th>\n",
              "      <td>1.896400e+06</td>\n",
              "      <td>1896400</td>\n",
              "      <td>1896400</td>\n",
              "      <td>1.831526e+06</td>\n",
              "      <td>1.896400e+06</td>\n",
              "      <td>1.831526e+06</td>\n",
              "      <td>1.896400e+06</td>\n",
              "      <td>1.896400e+06</td>\n",
              "      <td>1.896400e+06</td>\n",
              "      <td>1.896400e+06</td>\n",
              "      <td>1.896400e+06</td>\n",
              "      <td>1.896400e+06</td>\n",
              "      <td>1.896400e+06</td>\n",
              "      <td>1.896400e+06</td>\n",
              "      <td>1.896400e+06</td>\n",
              "      <td>1.896400e+06</td>\n",
              "      <td>1.831526e+06</td>\n",
              "      <td>1.831526e+06</td>\n",
              "      <td>1.896400e+06</td>\n",
              "    </tr>\n",
              "    <tr>\n",
              "      <th>mean</th>\n",
              "      <td>1.733026e+00</td>\n",
              "      <td>2023-07-02 19:59:52.930795</td>\n",
              "      <td>2023-07-02 20:17:18.919562</td>\n",
              "      <td>1.369215e+00</td>\n",
              "      <td>3.858293e+00</td>\n",
              "      <td>1.634694e+00</td>\n",
              "      <td>1.652814e+02</td>\n",
              "      <td>1.640515e+02</td>\n",
              "      <td>1.163817e+00</td>\n",
              "      <td>1.991935e+01</td>\n",
              "      <td>1.588018e+00</td>\n",
              "      <td>4.952796e-01</td>\n",
              "      <td>3.547011e+00</td>\n",
              "      <td>5.965338e-01</td>\n",
              "      <td>9.989706e-01</td>\n",
              "      <td>2.898186e+01</td>\n",
              "      <td>2.307524e+00</td>\n",
              "      <td>1.428976e-01</td>\n",
              "      <td>1.426504e+01</td>\n",
              "    </tr>\n",
              "    <tr>\n",
              "      <th>min</th>\n",
              "      <td>1.000000e+00</td>\n",
              "      <td>2022-12-31 23:51:30</td>\n",
              "      <td>2022-12-31 23:56:06</td>\n",
              "      <td>0.000000e+00</td>\n",
              "      <td>0.000000e+00</td>\n",
              "      <td>1.000000e+00</td>\n",
              "      <td>1.000000e+00</td>\n",
              "      <td>1.000000e+00</td>\n",
              "      <td>0.000000e+00</td>\n",
              "      <td>0.000000e+00</td>\n",
              "      <td>-2.500000e+00</td>\n",
              "      <td>-5.000000e-01</td>\n",
              "      <td>0.000000e+00</td>\n",
              "      <td>0.000000e+00</td>\n",
              "      <td>-1.000000e+00</td>\n",
              "      <td>-5.750000e+00</td>\n",
              "      <td>-2.500000e+00</td>\n",
              "      <td>-1.750000e+00</td>\n",
              "      <td>0.000000e+00</td>\n",
              "    </tr>\n",
              "    <tr>\n",
              "      <th>25%</th>\n",
              "      <td>1.000000e+00</td>\n",
              "      <td>2023-04-02 16:10:08.750000</td>\n",
              "      <td>2023-04-02 16:27:43.500000</td>\n",
              "      <td>1.000000e+00</td>\n",
              "      <td>1.050000e+00</td>\n",
              "      <td>1.000000e+00</td>\n",
              "      <td>1.320000e+02</td>\n",
              "      <td>1.140000e+02</td>\n",
              "      <td>1.000000e+00</td>\n",
              "      <td>9.300000e+00</td>\n",
              "      <td>0.000000e+00</td>\n",
              "      <td>5.000000e-01</td>\n",
              "      <td>1.000000e+00</td>\n",
              "      <td>0.000000e+00</td>\n",
              "      <td>1.000000e+00</td>\n",
              "      <td>1.596000e+01</td>\n",
              "      <td>2.500000e+00</td>\n",
              "      <td>0.000000e+00</td>\n",
              "      <td>1.100000e+01</td>\n",
              "    </tr>\n",
              "    <tr>\n",
              "      <th>50%</th>\n",
              "      <td>2.000000e+00</td>\n",
              "      <td>2023-06-27 15:44:22.500000</td>\n",
              "      <td>2023-06-27 16:01:15</td>\n",
              "      <td>1.000000e+00</td>\n",
              "      <td>1.790000e+00</td>\n",
              "      <td>1.000000e+00</td>\n",
              "      <td>1.620000e+02</td>\n",
              "      <td>1.620000e+02</td>\n",
              "      <td>1.000000e+00</td>\n",
              "      <td>1.350000e+01</td>\n",
              "      <td>1.000000e+00</td>\n",
              "      <td>5.000000e-01</td>\n",
              "      <td>2.850000e+00</td>\n",
              "      <td>0.000000e+00</td>\n",
              "      <td>1.000000e+00</td>\n",
              "      <td>2.100000e+01</td>\n",
              "      <td>2.500000e+00</td>\n",
              "      <td>0.000000e+00</td>\n",
              "      <td>1.500000e+01</td>\n",
              "    </tr>\n",
              "    <tr>\n",
              "      <th>75%</th>\n",
              "      <td>2.000000e+00</td>\n",
              "      <td>2023-10-06 19:37:45</td>\n",
              "      <td>2023-10-06 19:53:39</td>\n",
              "      <td>1.000000e+00</td>\n",
              "      <td>3.400000e+00</td>\n",
              "      <td>1.000000e+00</td>\n",
              "      <td>2.340000e+02</td>\n",
              "      <td>2.340000e+02</td>\n",
              "      <td>1.000000e+00</td>\n",
              "      <td>2.190000e+01</td>\n",
              "      <td>2.500000e+00</td>\n",
              "      <td>5.000000e-01</td>\n",
              "      <td>4.420000e+00</td>\n",
              "      <td>0.000000e+00</td>\n",
              "      <td>1.000000e+00</td>\n",
              "      <td>3.094000e+01</td>\n",
              "      <td>2.500000e+00</td>\n",
              "      <td>0.000000e+00</td>\n",
              "      <td>1.900000e+01</td>\n",
              "    </tr>\n",
              "    <tr>\n",
              "      <th>max</th>\n",
              "      <td>6.000000e+00</td>\n",
              "      <td>2023-12-31 23:57:51</td>\n",
              "      <td>2024-01-01 20:50:55</td>\n",
              "      <td>9.000000e+00</td>\n",
              "      <td>1.263605e+05</td>\n",
              "      <td>9.900000e+01</td>\n",
              "      <td>2.650000e+02</td>\n",
              "      <td>2.650000e+02</td>\n",
              "      <td>4.000000e+00</td>\n",
              "      <td>1.431635e+05</td>\n",
              "      <td>2.080000e+01</td>\n",
              "      <td>4.000000e+00</td>\n",
              "      <td>2.230800e+02</td>\n",
              "      <td>1.430000e+02</td>\n",
              "      <td>1.000000e+00</td>\n",
              "      <td>1.431675e+05</td>\n",
              "      <td>2.500000e+00</td>\n",
              "      <td>1.750000e+00</td>\n",
              "      <td>2.300000e+01</td>\n",
              "    </tr>\n",
              "    <tr>\n",
              "      <th>std</th>\n",
              "      <td>4.476401e-01</td>\n",
              "      <td>NaN</td>\n",
              "      <td>NaN</td>\n",
              "      <td>8.927560e-01</td>\n",
              "      <td>1.294085e+02</td>\n",
              "      <td>7.393915e+00</td>\n",
              "      <td>6.400038e+01</td>\n",
              "      <td>6.980207e+01</td>\n",
              "      <td>5.081384e-01</td>\n",
              "      <td>1.055371e+02</td>\n",
              "      <td>1.829200e+00</td>\n",
              "      <td>4.885128e-02</td>\n",
              "      <td>4.054882e+00</td>\n",
              "      <td>2.187878e+00</td>\n",
              "      <td>3.112072e-02</td>\n",
              "      <td>1.064162e+02</td>\n",
              "      <td>6.667267e-01</td>\n",
              "      <td>4.648725e-01</td>\n",
              "      <td>5.807381e+00</td>\n",
              "    </tr>\n",
              "  </tbody>\n",
              "</table>\n",
              "</div>\n",
              "    <div class=\"colab-df-buttons\">\n",
              "\n",
              "  <div class=\"colab-df-container\">\n",
              "    <button class=\"colab-df-convert\" onclick=\"convertToInteractive('df-6d0a09de-40d2-49eb-b435-5e7f1c3db49b')\"\n",
              "            title=\"Convert this dataframe to an interactive table.\"\n",
              "            style=\"display:none;\">\n",
              "\n",
              "  <svg xmlns=\"http://www.w3.org/2000/svg\" height=\"24px\" viewBox=\"0 -960 960 960\">\n",
              "    <path d=\"M120-120v-720h720v720H120Zm60-500h600v-160H180v160Zm220 220h160v-160H400v160Zm0 220h160v-160H400v160ZM180-400h160v-160H180v160Zm440 0h160v-160H620v160ZM180-180h160v-160H180v160Zm440 0h160v-160H620v160Z\"/>\n",
              "  </svg>\n",
              "    </button>\n",
              "\n",
              "  <style>\n",
              "    .colab-df-container {\n",
              "      display:flex;\n",
              "      gap: 12px;\n",
              "    }\n",
              "\n",
              "    .colab-df-convert {\n",
              "      background-color: #E8F0FE;\n",
              "      border: none;\n",
              "      border-radius: 50%;\n",
              "      cursor: pointer;\n",
              "      display: none;\n",
              "      fill: #1967D2;\n",
              "      height: 32px;\n",
              "      padding: 0 0 0 0;\n",
              "      width: 32px;\n",
              "    }\n",
              "\n",
              "    .colab-df-convert:hover {\n",
              "      background-color: #E2EBFA;\n",
              "      box-shadow: 0px 1px 2px rgba(60, 64, 67, 0.3), 0px 1px 3px 1px rgba(60, 64, 67, 0.15);\n",
              "      fill: #174EA6;\n",
              "    }\n",
              "\n",
              "    .colab-df-buttons div {\n",
              "      margin-bottom: 4px;\n",
              "    }\n",
              "\n",
              "    [theme=dark] .colab-df-convert {\n",
              "      background-color: #3B4455;\n",
              "      fill: #D2E3FC;\n",
              "    }\n",
              "\n",
              "    [theme=dark] .colab-df-convert:hover {\n",
              "      background-color: #434B5C;\n",
              "      box-shadow: 0px 1px 3px 1px rgba(0, 0, 0, 0.15);\n",
              "      filter: drop-shadow(0px 1px 2px rgba(0, 0, 0, 0.3));\n",
              "      fill: #FFFFFF;\n",
              "    }\n",
              "  </style>\n",
              "\n",
              "    <script>\n",
              "      const buttonEl =\n",
              "        document.querySelector('#df-6d0a09de-40d2-49eb-b435-5e7f1c3db49b button.colab-df-convert');\n",
              "      buttonEl.style.display =\n",
              "        google.colab.kernel.accessAllowed ? 'block' : 'none';\n",
              "\n",
              "      async function convertToInteractive(key) {\n",
              "        const element = document.querySelector('#df-6d0a09de-40d2-49eb-b435-5e7f1c3db49b');\n",
              "        const dataTable =\n",
              "          await google.colab.kernel.invokeFunction('convertToInteractive',\n",
              "                                                    [key], {});\n",
              "        if (!dataTable) return;\n",
              "\n",
              "        const docLinkHtml = 'Like what you see? Visit the ' +\n",
              "          '<a target=\"_blank\" href=https://colab.research.google.com/notebooks/data_table.ipynb>data table notebook</a>'\n",
              "          + ' to learn more about interactive tables.';\n",
              "        element.innerHTML = '';\n",
              "        dataTable['output_type'] = 'display_data';\n",
              "        await google.colab.output.renderOutput(dataTable, element);\n",
              "        const docLink = document.createElement('div');\n",
              "        docLink.innerHTML = docLinkHtml;\n",
              "        element.appendChild(docLink);\n",
              "      }\n",
              "    </script>\n",
              "  </div>\n",
              "\n",
              "\n",
              "<div id=\"df-83967bce-45a3-4a52-979b-d3f29d6bb7b9\">\n",
              "  <button class=\"colab-df-quickchart\" onclick=\"quickchart('df-83967bce-45a3-4a52-979b-d3f29d6bb7b9')\"\n",
              "            title=\"Suggest charts\"\n",
              "            style=\"display:none;\">\n",
              "\n",
              "<svg xmlns=\"http://www.w3.org/2000/svg\" height=\"24px\"viewBox=\"0 0 24 24\"\n",
              "     width=\"24px\">\n",
              "    <g>\n",
              "        <path d=\"M19 3H5c-1.1 0-2 .9-2 2v14c0 1.1.9 2 2 2h14c1.1 0 2-.9 2-2V5c0-1.1-.9-2-2-2zM9 17H7v-7h2v7zm4 0h-2V7h2v10zm4 0h-2v-4h2v4z\"/>\n",
              "    </g>\n",
              "</svg>\n",
              "  </button>\n",
              "\n",
              "<style>\n",
              "  .colab-df-quickchart {\n",
              "      --bg-color: #E8F0FE;\n",
              "      --fill-color: #1967D2;\n",
              "      --hover-bg-color: #E2EBFA;\n",
              "      --hover-fill-color: #174EA6;\n",
              "      --disabled-fill-color: #AAA;\n",
              "      --disabled-bg-color: #DDD;\n",
              "  }\n",
              "\n",
              "  [theme=dark] .colab-df-quickchart {\n",
              "      --bg-color: #3B4455;\n",
              "      --fill-color: #D2E3FC;\n",
              "      --hover-bg-color: #434B5C;\n",
              "      --hover-fill-color: #FFFFFF;\n",
              "      --disabled-bg-color: #3B4455;\n",
              "      --disabled-fill-color: #666;\n",
              "  }\n",
              "\n",
              "  .colab-df-quickchart {\n",
              "    background-color: var(--bg-color);\n",
              "    border: none;\n",
              "    border-radius: 50%;\n",
              "    cursor: pointer;\n",
              "    display: none;\n",
              "    fill: var(--fill-color);\n",
              "    height: 32px;\n",
              "    padding: 0;\n",
              "    width: 32px;\n",
              "  }\n",
              "\n",
              "  .colab-df-quickchart:hover {\n",
              "    background-color: var(--hover-bg-color);\n",
              "    box-shadow: 0 1px 2px rgba(60, 64, 67, 0.3), 0 1px 3px 1px rgba(60, 64, 67, 0.15);\n",
              "    fill: var(--button-hover-fill-color);\n",
              "  }\n",
              "\n",
              "  .colab-df-quickchart-complete:disabled,\n",
              "  .colab-df-quickchart-complete:disabled:hover {\n",
              "    background-color: var(--disabled-bg-color);\n",
              "    fill: var(--disabled-fill-color);\n",
              "    box-shadow: none;\n",
              "  }\n",
              "\n",
              "  .colab-df-spinner {\n",
              "    border: 2px solid var(--fill-color);\n",
              "    border-color: transparent;\n",
              "    border-bottom-color: var(--fill-color);\n",
              "    animation:\n",
              "      spin 1s steps(1) infinite;\n",
              "  }\n",
              "\n",
              "  @keyframes spin {\n",
              "    0% {\n",
              "      border-color: transparent;\n",
              "      border-bottom-color: var(--fill-color);\n",
              "      border-left-color: var(--fill-color);\n",
              "    }\n",
              "    20% {\n",
              "      border-color: transparent;\n",
              "      border-left-color: var(--fill-color);\n",
              "      border-top-color: var(--fill-color);\n",
              "    }\n",
              "    30% {\n",
              "      border-color: transparent;\n",
              "      border-left-color: var(--fill-color);\n",
              "      border-top-color: var(--fill-color);\n",
              "      border-right-color: var(--fill-color);\n",
              "    }\n",
              "    40% {\n",
              "      border-color: transparent;\n",
              "      border-right-color: var(--fill-color);\n",
              "      border-top-color: var(--fill-color);\n",
              "    }\n",
              "    60% {\n",
              "      border-color: transparent;\n",
              "      border-right-color: var(--fill-color);\n",
              "    }\n",
              "    80% {\n",
              "      border-color: transparent;\n",
              "      border-right-color: var(--fill-color);\n",
              "      border-bottom-color: var(--fill-color);\n",
              "    }\n",
              "    90% {\n",
              "      border-color: transparent;\n",
              "      border-bottom-color: var(--fill-color);\n",
              "    }\n",
              "  }\n",
              "</style>\n",
              "\n",
              "  <script>\n",
              "    async function quickchart(key) {\n",
              "      const quickchartButtonEl =\n",
              "        document.querySelector('#' + key + ' button');\n",
              "      quickchartButtonEl.disabled = true;  // To prevent multiple clicks.\n",
              "      quickchartButtonEl.classList.add('colab-df-spinner');\n",
              "      try {\n",
              "        const charts = await google.colab.kernel.invokeFunction(\n",
              "            'suggestCharts', [key], {});\n",
              "      } catch (error) {\n",
              "        console.error('Error during call to suggestCharts:', error);\n",
              "      }\n",
              "      quickchartButtonEl.classList.remove('colab-df-spinner');\n",
              "      quickchartButtonEl.classList.add('colab-df-quickchart-complete');\n",
              "    }\n",
              "    (() => {\n",
              "      let quickchartButtonEl =\n",
              "        document.querySelector('#df-83967bce-45a3-4a52-979b-d3f29d6bb7b9 button');\n",
              "      quickchartButtonEl.style.display =\n",
              "        google.colab.kernel.accessAllowed ? 'block' : 'none';\n",
              "    })();\n",
              "  </script>\n",
              "</div>\n",
              "\n",
              "    </div>\n",
              "  </div>\n"
            ],
            "application/vnd.google.colaboratory.intrinsic+json": {
              "type": "dataframe",
              "summary": "{\n  \"name\": \"final_sampled_df\",\n  \"rows\": 8,\n  \"fields\": [\n    {\n      \"column\": \"VendorID\",\n      \"properties\": {\n        \"dtype\": \"number\",\n        \"std\": 670477.9336914815,\n        \"min\": 0.4476401119872476,\n        \"max\": 1896400.0,\n        \"num_unique_values\": 6,\n        \"samples\": [\n          1896400.0,\n          1.7330257329677283,\n          0.4476401119872476\n        ],\n        \"semantic_type\": \"\",\n        \"description\": \"\"\n      }\n    },\n    {\n      \"column\": \"tpep_pickup_datetime\",\n      \"properties\": {\n        \"dtype\": \"date\",\n        \"min\": \"1970-01-01 00:00:00.001896400\",\n        \"max\": \"2023-12-31 23:57:51\",\n        \"num_unique_values\": 7,\n        \"samples\": [\n          \"1896400\",\n          \"2023-07-02 19:59:52.930795\",\n          \"2023-10-06 19:37:45\"\n        ],\n        \"semantic_type\": \"\",\n        \"description\": \"\"\n      }\n    },\n    {\n      \"column\": \"tpep_dropoff_datetime\",\n      \"properties\": {\n        \"dtype\": \"date\",\n        \"min\": \"1970-01-01 00:00:00.001896400\",\n        \"max\": \"2024-01-01 20:50:55\",\n        \"num_unique_values\": 7,\n        \"samples\": [\n          \"1896400\",\n          \"2023-07-02 20:17:18.919562\",\n          \"2023-10-06 19:53:39\"\n        ],\n        \"semantic_type\": \"\",\n        \"description\": \"\"\n      }\n    },\n    {\n      \"column\": \"passenger_count\",\n      \"properties\": {\n        \"dtype\": \"number\",\n        \"std\": 647541.5069277723,\n        \"min\": 0.0,\n        \"max\": 1831526.0,\n        \"num_unique_values\": 6,\n        \"samples\": [\n          1831526.0,\n          1.3692150698379384,\n          0.892756018790235\n        ],\n        \"semantic_type\": \"\",\n        \"description\": \"\"\n      }\n    },\n    {\n      \"column\": \"trip_distance\",\n      \"properties\": {\n        \"dtype\": \"number\",\n        \"std\": 665559.3145352527,\n        \"min\": 0.0,\n        \"max\": 1896400.0,\n        \"num_unique_values\": 8,\n        \"samples\": [\n          3.8582926492301204,\n          3.4,\n          1896400.0\n        ],\n        \"semantic_type\": \"\",\n        \"description\": \"\"\n      }\n    },\n    {\n      \"column\": \"RatecodeID\",\n      \"properties\": {\n        \"dtype\": \"number\",\n        \"std\": 647536.5698506573,\n        \"min\": 1.0,\n        \"max\": 1831526.0,\n        \"num_unique_values\": 5,\n        \"samples\": [\n          1.6346936925820328,\n          7.393914922573932,\n          1.0\n        ],\n        \"semantic_type\": \"\",\n        \"description\": \"\"\n      }\n    },\n    {\n      \"column\": \"PULocationID\",\n      \"properties\": {\n        \"dtype\": \"number\",\n        \"std\": 670426.9717657228,\n        \"min\": 1.0,\n        \"max\": 1896400.0,\n        \"num_unique_values\": 8,\n        \"samples\": [\n          165.28137629192153,\n          234.0,\n          1896400.0\n        ],\n        \"semantic_type\": \"\",\n        \"description\": \"\"\n      }\n    },\n    {\n      \"column\": \"DOLocationID\",\n      \"properties\": {\n        \"dtype\": \"number\",\n        \"std\": 670427.6499738868,\n        \"min\": 1.0,\n        \"max\": 1896400.0,\n        \"num_unique_values\": 8,\n        \"samples\": [\n          164.05152024889264,\n          234.0,\n          1896400.0\n        ],\n        \"semantic_type\": \"\",\n        \"description\": \"\"\n      }\n    },\n    {\n      \"column\": \"payment_type\",\n      \"properties\": {\n        \"dtype\": \"number\",\n        \"std\": 670478.2119222323,\n        \"min\": 0.0,\n        \"max\": 1896400.0,\n        \"num_unique_values\": 6,\n        \"samples\": [\n          1896400.0,\n          1.1638172326513394,\n          0.5081384198149954\n        ],\n        \"semantic_type\": \"\",\n        \"description\": \"\"\n      }\n    },\n    {\n      \"column\": \"fare_amount\",\n      \"properties\": {\n        \"dtype\": \"number\",\n        \"std\": 665127.7640473964,\n        \"min\": 0.0,\n        \"max\": 1896400.0,\n        \"num_unique_values\": 8,\n        \"samples\": [\n          19.919350442944534,\n          21.9,\n          1896400.0\n        ],\n        \"semantic_type\": \"\",\n        \"description\": \"\"\n      }\n    },\n    {\n      \"column\": \"extra\",\n      \"properties\": {\n        \"dtype\": \"number\",\n        \"std\": 670477.3762977163,\n        \"min\": -2.5,\n        \"max\": 1896400.0,\n        \"num_unique_values\": 8,\n        \"samples\": [\n          1.5880176597764188,\n          2.5,\n          1896400.0\n        ],\n        \"semantic_type\": \"\",\n        \"description\": \"\"\n      }\n    },\n    {\n      \"column\": \"mta_tax\",\n      \"properties\": {\n        \"dtype\": \"number\",\n        \"std\": 670478.3699015579,\n        \"min\": -0.5,\n        \"max\": 1896400.0,\n        \"num_unique_values\": 6,\n        \"samples\": [\n          1896400.0,\n          0.49527960873233506,\n          0.04885127986795637\n        ],\n        \"semantic_type\": \"\",\n        \"description\": \"\"\n      }\n    },\n    {\n      \"column\": \"tip_amount\",\n      \"properties\": {\n        \"dtype\": \"number\",\n        \"std\": 670466.5854668181,\n        \"min\": 0.0,\n        \"max\": 1896400.0,\n        \"num_unique_values\": 8,\n        \"samples\": [\n          3.547010530478801,\n          4.42,\n          1896400.0\n        ],\n        \"semantic_type\": \"\",\n        \"description\": \"\"\n      }\n    },\n    {\n      \"column\": \"tolls_amount\",\n      \"properties\": {\n        \"dtype\": \"number\",\n        \"std\": 670471.2885519933,\n        \"min\": 0.0,\n        \"max\": 1896400.0,\n        \"num_unique_values\": 5,\n        \"samples\": [\n          0.5965338325247835,\n          2.1878777138363654,\n          0.0\n        ],\n        \"semantic_type\": \"\",\n        \"description\": \"\"\n      }\n    },\n    {\n      \"column\": \"improvement_surcharge\",\n      \"properties\": {\n        \"dtype\": \"number\",\n        \"std\": 670478.4463711249,\n        \"min\": -1.0,\n        \"max\": 1896400.0,\n        \"num_unique_values\": 5,\n        \"samples\": [\n          0.9989706285593766,\n          0.03112071681846047,\n          -1.0\n        ],\n        \"semantic_type\": \"\",\n        \"description\": \"\"\n      }\n    },\n    {\n      \"column\": \"total_amount\",\n      \"properties\": {\n        \"dtype\": \"number\",\n        \"std\": 665126.1681235608,\n        \"min\": -5.75,\n        \"max\": 1896400.0,\n        \"num_unique_values\": 8,\n        \"samples\": [\n          28.981862977219986,\n          30.94,\n          1896400.0\n        ],\n        \"semantic_type\": \"\",\n        \"description\": \"\"\n      }\n    },\n    {\n      \"column\": \"congestion_surcharge\",\n      \"properties\": {\n        \"dtype\": \"number\",\n        \"std\": 647541.6982325313,\n        \"min\": -2.5,\n        \"max\": 1831526.0,\n        \"num_unique_values\": 5,\n        \"samples\": [\n          2.3075241629111463,\n          0.6667267330262556,\n          -2.5\n        ],\n        \"semantic_type\": \"\",\n        \"description\": \"\"\n      }\n    },\n    {\n      \"column\": \"airport_fee\",\n      \"properties\": {\n        \"dtype\": \"number\",\n        \"std\": 647542.1965634063,\n        \"min\": -1.75,\n        \"max\": 1831526.0,\n        \"num_unique_values\": 6,\n        \"samples\": [\n          1831526.0,\n          0.14289764382269213,\n          0.46487246133788607\n        ],\n        \"semantic_type\": \"\",\n        \"description\": \"\"\n      }\n    },\n    {\n      \"column\": \"pickup_hour\",\n      \"properties\": {\n        \"dtype\": \"number\",\n        \"std\": 670474.2016307365,\n        \"min\": 0.0,\n        \"max\": 1896400.0,\n        \"num_unique_values\": 8,\n        \"samples\": [\n          14.265044294452647,\n          19.0,\n          1896400.0\n        ],\n        \"semantic_type\": \"\",\n        \"description\": \"\"\n      }\n    }\n  ]\n}"
            }
          },
          "metadata": {},
          "execution_count": 22
        }
      ]
    },
    {
      "cell_type": "code",
      "source": [
        "final_sampled_df.drop(columns=[\"tpep_pickup_datetime\"], inplace=True, errors='ignore')\n",
        "\n",
        "# Verify the column is dropped\n",
        "final_sampled_df.info()"
      ],
      "metadata": {
        "colab": {
          "base_uri": "https://localhost:8080/"
        },
        "id": "btT_xJuB_uuu",
        "outputId": "5dd9ab25-1705-41c5-dd15-636539d927fd"
      },
      "execution_count": 26,
      "outputs": [
        {
          "output_type": "stream",
          "name": "stdout",
          "text": [
            "<class 'pandas.core.frame.DataFrame'>\n",
            "RangeIndex: 1896400 entries, 0 to 1896399\n",
            "Data columns (total 20 columns):\n",
            " #   Column                 Dtype         \n",
            "---  ------                 -----         \n",
            " 0   VendorID               int64         \n",
            " 1   tpep_dropoff_datetime  datetime64[us]\n",
            " 2   passenger_count        float64       \n",
            " 3   trip_distance          float64       \n",
            " 4   RatecodeID             float64       \n",
            " 5   store_and_fwd_flag     object        \n",
            " 6   PULocationID           int64         \n",
            " 7   DOLocationID           int64         \n",
            " 8   payment_type           int64         \n",
            " 9   fare_amount            float64       \n",
            " 10  extra                  float64       \n",
            " 11  mta_tax                float64       \n",
            " 12  tip_amount             float64       \n",
            " 13  tolls_amount           float64       \n",
            " 14  improvement_surcharge  float64       \n",
            " 15  total_amount           float64       \n",
            " 16  congestion_surcharge   float64       \n",
            " 17  airport_fee            float64       \n",
            " 18  pickup_date            object        \n",
            " 19  pickup_hour            int32         \n",
            "dtypes: datetime64[us](1), float64(12), int32(1), int64(4), object(2)\n",
            "memory usage: 282.1+ MB\n"
          ]
        }
      ]
    },
    {
      "cell_type": "code",
      "source": [
        "# Ensure the column is in datetime format\n",
        "final_sampled_df[\"tpep_dropoff_datetime\"] = pd.to_datetime(final_sampled_df[\"tpep_dropoff_datetime\"])\n",
        "\n",
        "# Extract drop-off date and time into new columns\n",
        "final_sampled_df[\"dropoff_date\"] = final_sampled_df[\"tpep_dropoff_datetime\"].dt.date\n",
        "final_sampled_df[\"dropoff_time\"] = final_sampled_df[\"tpep_dropoff_datetime\"].dt.time\n",
        "\n",
        "# Drop the original datetime column\n",
        "final_sampled_df.drop(columns=[\"tpep_dropoff_datetime\"], inplace=True, errors='ignore')\n",
        "\n",
        "# Verify changes\n",
        "final_sampled_df.info()\n",
        "final_sampled_df.head()"
      ],
      "metadata": {
        "colab": {
          "base_uri": "https://localhost:8080/",
          "height": 742
        },
        "id": "tAIUaYgsA1fI",
        "outputId": "2a4aeee9-9735-421b-a41c-a290acb5bfe9"
      },
      "execution_count": 28,
      "outputs": [
        {
          "output_type": "stream",
          "name": "stdout",
          "text": [
            "<class 'pandas.core.frame.DataFrame'>\n",
            "RangeIndex: 1896400 entries, 0 to 1896399\n",
            "Data columns (total 21 columns):\n",
            " #   Column                 Dtype  \n",
            "---  ------                 -----  \n",
            " 0   VendorID               int64  \n",
            " 1   passenger_count        float64\n",
            " 2   trip_distance          float64\n",
            " 3   RatecodeID             float64\n",
            " 4   store_and_fwd_flag     object \n",
            " 5   PULocationID           int64  \n",
            " 6   DOLocationID           int64  \n",
            " 7   payment_type           int64  \n",
            " 8   fare_amount            float64\n",
            " 9   extra                  float64\n",
            " 10  mta_tax                float64\n",
            " 11  tip_amount             float64\n",
            " 12  tolls_amount           float64\n",
            " 13  improvement_surcharge  float64\n",
            " 14  total_amount           float64\n",
            " 15  congestion_surcharge   float64\n",
            " 16  airport_fee            float64\n",
            " 17  pickup_date            object \n",
            " 18  pickup_hour            int32  \n",
            " 19  dropoff_date           object \n",
            " 20  dropoff_time           object \n",
            "dtypes: float64(12), int32(1), int64(4), object(4)\n",
            "memory usage: 296.6+ MB\n"
          ]
        },
        {
          "output_type": "execute_result",
          "data": {
            "text/plain": [
              "   VendorID  passenger_count  trip_distance  RatecodeID store_and_fwd_flag  \\\n",
              "0         2              1.0           0.86         1.0                  N   \n",
              "1         2              1.0           7.74         1.0                  N   \n",
              "2         2              2.0           1.24         1.0                  N   \n",
              "3         2              3.0           1.44         1.0                  N   \n",
              "4         2              1.0           0.54         1.0                  N   \n",
              "\n",
              "   PULocationID  DOLocationID  payment_type  fare_amount  extra  ...  \\\n",
              "0           141           140             1          6.5    1.0  ...   \n",
              "1           138           256             2         32.4    6.0  ...   \n",
              "2           161           237             1          7.9    1.0  ...   \n",
              "3           237           141             2         11.4    1.0  ...   \n",
              "4           143           142             2          6.5    1.0  ...   \n",
              "\n",
              "   tip_amount  tolls_amount  improvement_surcharge  total_amount  \\\n",
              "0        2.00           0.0                    1.0         13.50   \n",
              "1        0.00           0.0                    1.0         41.15   \n",
              "2        2.58           0.0                    1.0         15.48   \n",
              "3        0.00           0.0                    1.0         16.40   \n",
              "4        0.00           0.0                    1.0         11.50   \n",
              "\n",
              "   congestion_surcharge  airport_fee  pickup_date pickup_hour  dropoff_date  \\\n",
              "0                   2.5         0.00   2022-12-31          23    2022-12-31   \n",
              "1                   0.0         1.25   2023-01-01           0    2023-01-01   \n",
              "2                   2.5         0.00   2023-01-01           0    2023-01-01   \n",
              "3                   2.5         0.00   2023-01-01           0    2023-01-01   \n",
              "4                   2.5         0.00   2023-01-01           0    2023-01-01   \n",
              "\n",
              "  dropoff_time  \n",
              "0     23:56:06  \n",
              "1     00:23:15  \n",
              "2     00:21:46  \n",
              "3     00:24:36  \n",
              "4     00:29:55  \n",
              "\n",
              "[5 rows x 21 columns]"
            ],
            "text/html": [
              "\n",
              "  <div id=\"df-f5ac9a6f-feec-4ac2-b09b-3883a6267fe8\" class=\"colab-df-container\">\n",
              "    <div>\n",
              "<style scoped>\n",
              "    .dataframe tbody tr th:only-of-type {\n",
              "        vertical-align: middle;\n",
              "    }\n",
              "\n",
              "    .dataframe tbody tr th {\n",
              "        vertical-align: top;\n",
              "    }\n",
              "\n",
              "    .dataframe thead th {\n",
              "        text-align: right;\n",
              "    }\n",
              "</style>\n",
              "<table border=\"1\" class=\"dataframe\">\n",
              "  <thead>\n",
              "    <tr style=\"text-align: right;\">\n",
              "      <th></th>\n",
              "      <th>VendorID</th>\n",
              "      <th>passenger_count</th>\n",
              "      <th>trip_distance</th>\n",
              "      <th>RatecodeID</th>\n",
              "      <th>store_and_fwd_flag</th>\n",
              "      <th>PULocationID</th>\n",
              "      <th>DOLocationID</th>\n",
              "      <th>payment_type</th>\n",
              "      <th>fare_amount</th>\n",
              "      <th>extra</th>\n",
              "      <th>...</th>\n",
              "      <th>tip_amount</th>\n",
              "      <th>tolls_amount</th>\n",
              "      <th>improvement_surcharge</th>\n",
              "      <th>total_amount</th>\n",
              "      <th>congestion_surcharge</th>\n",
              "      <th>airport_fee</th>\n",
              "      <th>pickup_date</th>\n",
              "      <th>pickup_hour</th>\n",
              "      <th>dropoff_date</th>\n",
              "      <th>dropoff_time</th>\n",
              "    </tr>\n",
              "  </thead>\n",
              "  <tbody>\n",
              "    <tr>\n",
              "      <th>0</th>\n",
              "      <td>2</td>\n",
              "      <td>1.0</td>\n",
              "      <td>0.86</td>\n",
              "      <td>1.0</td>\n",
              "      <td>N</td>\n",
              "      <td>141</td>\n",
              "      <td>140</td>\n",
              "      <td>1</td>\n",
              "      <td>6.5</td>\n",
              "      <td>1.0</td>\n",
              "      <td>...</td>\n",
              "      <td>2.00</td>\n",
              "      <td>0.0</td>\n",
              "      <td>1.0</td>\n",
              "      <td>13.50</td>\n",
              "      <td>2.5</td>\n",
              "      <td>0.00</td>\n",
              "      <td>2022-12-31</td>\n",
              "      <td>23</td>\n",
              "      <td>2022-12-31</td>\n",
              "      <td>23:56:06</td>\n",
              "    </tr>\n",
              "    <tr>\n",
              "      <th>1</th>\n",
              "      <td>2</td>\n",
              "      <td>1.0</td>\n",
              "      <td>7.74</td>\n",
              "      <td>1.0</td>\n",
              "      <td>N</td>\n",
              "      <td>138</td>\n",
              "      <td>256</td>\n",
              "      <td>2</td>\n",
              "      <td>32.4</td>\n",
              "      <td>6.0</td>\n",
              "      <td>...</td>\n",
              "      <td>0.00</td>\n",
              "      <td>0.0</td>\n",
              "      <td>1.0</td>\n",
              "      <td>41.15</td>\n",
              "      <td>0.0</td>\n",
              "      <td>1.25</td>\n",
              "      <td>2023-01-01</td>\n",
              "      <td>0</td>\n",
              "      <td>2023-01-01</td>\n",
              "      <td>00:23:15</td>\n",
              "    </tr>\n",
              "    <tr>\n",
              "      <th>2</th>\n",
              "      <td>2</td>\n",
              "      <td>2.0</td>\n",
              "      <td>1.24</td>\n",
              "      <td>1.0</td>\n",
              "      <td>N</td>\n",
              "      <td>161</td>\n",
              "      <td>237</td>\n",
              "      <td>1</td>\n",
              "      <td>7.9</td>\n",
              "      <td>1.0</td>\n",
              "      <td>...</td>\n",
              "      <td>2.58</td>\n",
              "      <td>0.0</td>\n",
              "      <td>1.0</td>\n",
              "      <td>15.48</td>\n",
              "      <td>2.5</td>\n",
              "      <td>0.00</td>\n",
              "      <td>2023-01-01</td>\n",
              "      <td>0</td>\n",
              "      <td>2023-01-01</td>\n",
              "      <td>00:21:46</td>\n",
              "    </tr>\n",
              "    <tr>\n",
              "      <th>3</th>\n",
              "      <td>2</td>\n",
              "      <td>3.0</td>\n",
              "      <td>1.44</td>\n",
              "      <td>1.0</td>\n",
              "      <td>N</td>\n",
              "      <td>237</td>\n",
              "      <td>141</td>\n",
              "      <td>2</td>\n",
              "      <td>11.4</td>\n",
              "      <td>1.0</td>\n",
              "      <td>...</td>\n",
              "      <td>0.00</td>\n",
              "      <td>0.0</td>\n",
              "      <td>1.0</td>\n",
              "      <td>16.40</td>\n",
              "      <td>2.5</td>\n",
              "      <td>0.00</td>\n",
              "      <td>2023-01-01</td>\n",
              "      <td>0</td>\n",
              "      <td>2023-01-01</td>\n",
              "      <td>00:24:36</td>\n",
              "    </tr>\n",
              "    <tr>\n",
              "      <th>4</th>\n",
              "      <td>2</td>\n",
              "      <td>1.0</td>\n",
              "      <td>0.54</td>\n",
              "      <td>1.0</td>\n",
              "      <td>N</td>\n",
              "      <td>143</td>\n",
              "      <td>142</td>\n",
              "      <td>2</td>\n",
              "      <td>6.5</td>\n",
              "      <td>1.0</td>\n",
              "      <td>...</td>\n",
              "      <td>0.00</td>\n",
              "      <td>0.0</td>\n",
              "      <td>1.0</td>\n",
              "      <td>11.50</td>\n",
              "      <td>2.5</td>\n",
              "      <td>0.00</td>\n",
              "      <td>2023-01-01</td>\n",
              "      <td>0</td>\n",
              "      <td>2023-01-01</td>\n",
              "      <td>00:29:55</td>\n",
              "    </tr>\n",
              "  </tbody>\n",
              "</table>\n",
              "<p>5 rows × 21 columns</p>\n",
              "</div>\n",
              "    <div class=\"colab-df-buttons\">\n",
              "\n",
              "  <div class=\"colab-df-container\">\n",
              "    <button class=\"colab-df-convert\" onclick=\"convertToInteractive('df-f5ac9a6f-feec-4ac2-b09b-3883a6267fe8')\"\n",
              "            title=\"Convert this dataframe to an interactive table.\"\n",
              "            style=\"display:none;\">\n",
              "\n",
              "  <svg xmlns=\"http://www.w3.org/2000/svg\" height=\"24px\" viewBox=\"0 -960 960 960\">\n",
              "    <path d=\"M120-120v-720h720v720H120Zm60-500h600v-160H180v160Zm220 220h160v-160H400v160Zm0 220h160v-160H400v160ZM180-400h160v-160H180v160Zm440 0h160v-160H620v160ZM180-180h160v-160H180v160Zm440 0h160v-160H620v160Z\"/>\n",
              "  </svg>\n",
              "    </button>\n",
              "\n",
              "  <style>\n",
              "    .colab-df-container {\n",
              "      display:flex;\n",
              "      gap: 12px;\n",
              "    }\n",
              "\n",
              "    .colab-df-convert {\n",
              "      background-color: #E8F0FE;\n",
              "      border: none;\n",
              "      border-radius: 50%;\n",
              "      cursor: pointer;\n",
              "      display: none;\n",
              "      fill: #1967D2;\n",
              "      height: 32px;\n",
              "      padding: 0 0 0 0;\n",
              "      width: 32px;\n",
              "    }\n",
              "\n",
              "    .colab-df-convert:hover {\n",
              "      background-color: #E2EBFA;\n",
              "      box-shadow: 0px 1px 2px rgba(60, 64, 67, 0.3), 0px 1px 3px 1px rgba(60, 64, 67, 0.15);\n",
              "      fill: #174EA6;\n",
              "    }\n",
              "\n",
              "    .colab-df-buttons div {\n",
              "      margin-bottom: 4px;\n",
              "    }\n",
              "\n",
              "    [theme=dark] .colab-df-convert {\n",
              "      background-color: #3B4455;\n",
              "      fill: #D2E3FC;\n",
              "    }\n",
              "\n",
              "    [theme=dark] .colab-df-convert:hover {\n",
              "      background-color: #434B5C;\n",
              "      box-shadow: 0px 1px 3px 1px rgba(0, 0, 0, 0.15);\n",
              "      filter: drop-shadow(0px 1px 2px rgba(0, 0, 0, 0.3));\n",
              "      fill: #FFFFFF;\n",
              "    }\n",
              "  </style>\n",
              "\n",
              "    <script>\n",
              "      const buttonEl =\n",
              "        document.querySelector('#df-f5ac9a6f-feec-4ac2-b09b-3883a6267fe8 button.colab-df-convert');\n",
              "      buttonEl.style.display =\n",
              "        google.colab.kernel.accessAllowed ? 'block' : 'none';\n",
              "\n",
              "      async function convertToInteractive(key) {\n",
              "        const element = document.querySelector('#df-f5ac9a6f-feec-4ac2-b09b-3883a6267fe8');\n",
              "        const dataTable =\n",
              "          await google.colab.kernel.invokeFunction('convertToInteractive',\n",
              "                                                    [key], {});\n",
              "        if (!dataTable) return;\n",
              "\n",
              "        const docLinkHtml = 'Like what you see? Visit the ' +\n",
              "          '<a target=\"_blank\" href=https://colab.research.google.com/notebooks/data_table.ipynb>data table notebook</a>'\n",
              "          + ' to learn more about interactive tables.';\n",
              "        element.innerHTML = '';\n",
              "        dataTable['output_type'] = 'display_data';\n",
              "        await google.colab.output.renderOutput(dataTable, element);\n",
              "        const docLink = document.createElement('div');\n",
              "        docLink.innerHTML = docLinkHtml;\n",
              "        element.appendChild(docLink);\n",
              "      }\n",
              "    </script>\n",
              "  </div>\n",
              "\n",
              "\n",
              "<div id=\"df-0d7d2895-36c3-4d58-a8bc-a2d0fe664b0e\">\n",
              "  <button class=\"colab-df-quickchart\" onclick=\"quickchart('df-0d7d2895-36c3-4d58-a8bc-a2d0fe664b0e')\"\n",
              "            title=\"Suggest charts\"\n",
              "            style=\"display:none;\">\n",
              "\n",
              "<svg xmlns=\"http://www.w3.org/2000/svg\" height=\"24px\"viewBox=\"0 0 24 24\"\n",
              "     width=\"24px\">\n",
              "    <g>\n",
              "        <path d=\"M19 3H5c-1.1 0-2 .9-2 2v14c0 1.1.9 2 2 2h14c1.1 0 2-.9 2-2V5c0-1.1-.9-2-2-2zM9 17H7v-7h2v7zm4 0h-2V7h2v10zm4 0h-2v-4h2v4z\"/>\n",
              "    </g>\n",
              "</svg>\n",
              "  </button>\n",
              "\n",
              "<style>\n",
              "  .colab-df-quickchart {\n",
              "      --bg-color: #E8F0FE;\n",
              "      --fill-color: #1967D2;\n",
              "      --hover-bg-color: #E2EBFA;\n",
              "      --hover-fill-color: #174EA6;\n",
              "      --disabled-fill-color: #AAA;\n",
              "      --disabled-bg-color: #DDD;\n",
              "  }\n",
              "\n",
              "  [theme=dark] .colab-df-quickchart {\n",
              "      --bg-color: #3B4455;\n",
              "      --fill-color: #D2E3FC;\n",
              "      --hover-bg-color: #434B5C;\n",
              "      --hover-fill-color: #FFFFFF;\n",
              "      --disabled-bg-color: #3B4455;\n",
              "      --disabled-fill-color: #666;\n",
              "  }\n",
              "\n",
              "  .colab-df-quickchart {\n",
              "    background-color: var(--bg-color);\n",
              "    border: none;\n",
              "    border-radius: 50%;\n",
              "    cursor: pointer;\n",
              "    display: none;\n",
              "    fill: var(--fill-color);\n",
              "    height: 32px;\n",
              "    padding: 0;\n",
              "    width: 32px;\n",
              "  }\n",
              "\n",
              "  .colab-df-quickchart:hover {\n",
              "    background-color: var(--hover-bg-color);\n",
              "    box-shadow: 0 1px 2px rgba(60, 64, 67, 0.3), 0 1px 3px 1px rgba(60, 64, 67, 0.15);\n",
              "    fill: var(--button-hover-fill-color);\n",
              "  }\n",
              "\n",
              "  .colab-df-quickchart-complete:disabled,\n",
              "  .colab-df-quickchart-complete:disabled:hover {\n",
              "    background-color: var(--disabled-bg-color);\n",
              "    fill: var(--disabled-fill-color);\n",
              "    box-shadow: none;\n",
              "  }\n",
              "\n",
              "  .colab-df-spinner {\n",
              "    border: 2px solid var(--fill-color);\n",
              "    border-color: transparent;\n",
              "    border-bottom-color: var(--fill-color);\n",
              "    animation:\n",
              "      spin 1s steps(1) infinite;\n",
              "  }\n",
              "\n",
              "  @keyframes spin {\n",
              "    0% {\n",
              "      border-color: transparent;\n",
              "      border-bottom-color: var(--fill-color);\n",
              "      border-left-color: var(--fill-color);\n",
              "    }\n",
              "    20% {\n",
              "      border-color: transparent;\n",
              "      border-left-color: var(--fill-color);\n",
              "      border-top-color: var(--fill-color);\n",
              "    }\n",
              "    30% {\n",
              "      border-color: transparent;\n",
              "      border-left-color: var(--fill-color);\n",
              "      border-top-color: var(--fill-color);\n",
              "      border-right-color: var(--fill-color);\n",
              "    }\n",
              "    40% {\n",
              "      border-color: transparent;\n",
              "      border-right-color: var(--fill-color);\n",
              "      border-top-color: var(--fill-color);\n",
              "    }\n",
              "    60% {\n",
              "      border-color: transparent;\n",
              "      border-right-color: var(--fill-color);\n",
              "    }\n",
              "    80% {\n",
              "      border-color: transparent;\n",
              "      border-right-color: var(--fill-color);\n",
              "      border-bottom-color: var(--fill-color);\n",
              "    }\n",
              "    90% {\n",
              "      border-color: transparent;\n",
              "      border-bottom-color: var(--fill-color);\n",
              "    }\n",
              "  }\n",
              "</style>\n",
              "\n",
              "  <script>\n",
              "    async function quickchart(key) {\n",
              "      const quickchartButtonEl =\n",
              "        document.querySelector('#' + key + ' button');\n",
              "      quickchartButtonEl.disabled = true;  // To prevent multiple clicks.\n",
              "      quickchartButtonEl.classList.add('colab-df-spinner');\n",
              "      try {\n",
              "        const charts = await google.colab.kernel.invokeFunction(\n",
              "            'suggestCharts', [key], {});\n",
              "      } catch (error) {\n",
              "        console.error('Error during call to suggestCharts:', error);\n",
              "      }\n",
              "      quickchartButtonEl.classList.remove('colab-df-spinner');\n",
              "      quickchartButtonEl.classList.add('colab-df-quickchart-complete');\n",
              "    }\n",
              "    (() => {\n",
              "      let quickchartButtonEl =\n",
              "        document.querySelector('#df-0d7d2895-36c3-4d58-a8bc-a2d0fe664b0e button');\n",
              "      quickchartButtonEl.style.display =\n",
              "        google.colab.kernel.accessAllowed ? 'block' : 'none';\n",
              "    })();\n",
              "  </script>\n",
              "</div>\n",
              "\n",
              "    </div>\n",
              "  </div>\n"
            ],
            "application/vnd.google.colaboratory.intrinsic+json": {
              "type": "dataframe",
              "variable_name": "final_sampled_df"
            }
          },
          "metadata": {},
          "execution_count": 28
        }
      ]
    },
    {
      "cell_type": "markdown",
      "metadata": {
        "id": "TIFmxvIT2wsn"
      },
      "source": [
        "**2.1.2** <font color = red>[3 marks]</font> <br>\n",
        "There are two airport fee columns. This is possibly an error in naming columns. Let's see whether these can be combined into a single column."
      ]
    },
    {
      "cell_type": "code",
      "execution_count": 21,
      "metadata": {
        "id": "rmtgnb1x6TrV",
        "colab": {
          "base_uri": "https://localhost:8080/"
        },
        "outputId": "989493c3-731d-4999-fc4a-4eb13706e8c5"
      },
      "outputs": [
        {
          "output_type": "stream",
          "name": "stdout",
          "text": [
            "<class 'pandas.core.frame.DataFrame'>\n",
            "RangeIndex: 1896400 entries, 0 to 1896399\n",
            "Data columns (total 21 columns):\n",
            " #   Column                 Dtype         \n",
            "---  ------                 -----         \n",
            " 0   VendorID               int64         \n",
            " 1   tpep_pickup_datetime   datetime64[us]\n",
            " 2   tpep_dropoff_datetime  datetime64[us]\n",
            " 3   passenger_count        float64       \n",
            " 4   trip_distance          float64       \n",
            " 5   RatecodeID             float64       \n",
            " 6   store_and_fwd_flag     object        \n",
            " 7   PULocationID           int64         \n",
            " 8   DOLocationID           int64         \n",
            " 9   payment_type           int64         \n",
            " 10  fare_amount            float64       \n",
            " 11  extra                  float64       \n",
            " 12  mta_tax                float64       \n",
            " 13  tip_amount             float64       \n",
            " 14  tolls_amount           float64       \n",
            " 15  improvement_surcharge  float64       \n",
            " 16  total_amount           float64       \n",
            " 17  congestion_surcharge   float64       \n",
            " 18  airport_fee            float64       \n",
            " 19  pickup_date            object        \n",
            " 20  pickup_hour            int32         \n",
            "dtypes: datetime64[us](2), float64(12), int32(1), int64(4), object(2)\n",
            "memory usage: 296.6+ MB\n"
          ]
        }
      ],
      "source": [
        "# Combine the two airport fee columns\n",
        "\n",
        "# Combine the two columns, prioritizing non-null values\n",
        "final_sampled_df[\"airport_fee\"] = final_sampled_df[\"airport_fee\"].fillna(final_sampled_df[\"Airport_fee\"])\n",
        "\n",
        "# Drop the redundant column\n",
        "final_sampled_df.drop(columns=[\"Airport_fee\"], inplace=True, errors='ignore')\n",
        "\n",
        "# Verify changes\n",
        "final_sampled_df.info()"
      ]
    },
    {
      "cell_type": "markdown",
      "metadata": {
        "id": "1g4AHG7mOYgP"
      },
      "source": [
        "**2.1.3** <font color = red>[5 marks]</font> <br>\n",
        "Fix columns with negative (monetary) values"
      ]
    },
    {
      "cell_type": "code",
      "execution_count": 29,
      "metadata": {
        "id": "nBsMT2MII1Hv",
        "colab": {
          "base_uri": "https://localhost:8080/",
          "height": 116
        },
        "outputId": "c78da875-0857-40ed-a79b-a548e033d905"
      },
      "outputs": [
        {
          "output_type": "stream",
          "name": "stdout",
          "text": [
            "Number of negative fare values: 0\n"
          ]
        },
        {
          "output_type": "execute_result",
          "data": {
            "text/plain": [
              "Empty DataFrame\n",
              "Columns: [VendorID, passenger_count, trip_distance, RatecodeID, store_and_fwd_flag, PULocationID, DOLocationID, payment_type, fare_amount, extra, mta_tax, tip_amount, tolls_amount, improvement_surcharge, total_amount, congestion_surcharge, airport_fee, pickup_date, pickup_hour, dropoff_date, dropoff_time]\n",
              "Index: []\n",
              "\n",
              "[0 rows x 21 columns]"
            ],
            "text/html": [
              "\n",
              "  <div id=\"df-339d8491-47df-4917-8bab-677ea9c85f48\" class=\"colab-df-container\">\n",
              "    <div>\n",
              "<style scoped>\n",
              "    .dataframe tbody tr th:only-of-type {\n",
              "        vertical-align: middle;\n",
              "    }\n",
              "\n",
              "    .dataframe tbody tr th {\n",
              "        vertical-align: top;\n",
              "    }\n",
              "\n",
              "    .dataframe thead th {\n",
              "        text-align: right;\n",
              "    }\n",
              "</style>\n",
              "<table border=\"1\" class=\"dataframe\">\n",
              "  <thead>\n",
              "    <tr style=\"text-align: right;\">\n",
              "      <th></th>\n",
              "      <th>VendorID</th>\n",
              "      <th>passenger_count</th>\n",
              "      <th>trip_distance</th>\n",
              "      <th>RatecodeID</th>\n",
              "      <th>store_and_fwd_flag</th>\n",
              "      <th>PULocationID</th>\n",
              "      <th>DOLocationID</th>\n",
              "      <th>payment_type</th>\n",
              "      <th>fare_amount</th>\n",
              "      <th>extra</th>\n",
              "      <th>...</th>\n",
              "      <th>tip_amount</th>\n",
              "      <th>tolls_amount</th>\n",
              "      <th>improvement_surcharge</th>\n",
              "      <th>total_amount</th>\n",
              "      <th>congestion_surcharge</th>\n",
              "      <th>airport_fee</th>\n",
              "      <th>pickup_date</th>\n",
              "      <th>pickup_hour</th>\n",
              "      <th>dropoff_date</th>\n",
              "      <th>dropoff_time</th>\n",
              "    </tr>\n",
              "  </thead>\n",
              "  <tbody>\n",
              "  </tbody>\n",
              "</table>\n",
              "<p>0 rows × 21 columns</p>\n",
              "</div>\n",
              "    <div class=\"colab-df-buttons\">\n",
              "\n",
              "  <div class=\"colab-df-container\">\n",
              "    <button class=\"colab-df-convert\" onclick=\"convertToInteractive('df-339d8491-47df-4917-8bab-677ea9c85f48')\"\n",
              "            title=\"Convert this dataframe to an interactive table.\"\n",
              "            style=\"display:none;\">\n",
              "\n",
              "  <svg xmlns=\"http://www.w3.org/2000/svg\" height=\"24px\" viewBox=\"0 -960 960 960\">\n",
              "    <path d=\"M120-120v-720h720v720H120Zm60-500h600v-160H180v160Zm220 220h160v-160H400v160Zm0 220h160v-160H400v160ZM180-400h160v-160H180v160Zm440 0h160v-160H620v160ZM180-180h160v-160H180v160Zm440 0h160v-160H620v160Z\"/>\n",
              "  </svg>\n",
              "    </button>\n",
              "\n",
              "  <style>\n",
              "    .colab-df-container {\n",
              "      display:flex;\n",
              "      gap: 12px;\n",
              "    }\n",
              "\n",
              "    .colab-df-convert {\n",
              "      background-color: #E8F0FE;\n",
              "      border: none;\n",
              "      border-radius: 50%;\n",
              "      cursor: pointer;\n",
              "      display: none;\n",
              "      fill: #1967D2;\n",
              "      height: 32px;\n",
              "      padding: 0 0 0 0;\n",
              "      width: 32px;\n",
              "    }\n",
              "\n",
              "    .colab-df-convert:hover {\n",
              "      background-color: #E2EBFA;\n",
              "      box-shadow: 0px 1px 2px rgba(60, 64, 67, 0.3), 0px 1px 3px 1px rgba(60, 64, 67, 0.15);\n",
              "      fill: #174EA6;\n",
              "    }\n",
              "\n",
              "    .colab-df-buttons div {\n",
              "      margin-bottom: 4px;\n",
              "    }\n",
              "\n",
              "    [theme=dark] .colab-df-convert {\n",
              "      background-color: #3B4455;\n",
              "      fill: #D2E3FC;\n",
              "    }\n",
              "\n",
              "    [theme=dark] .colab-df-convert:hover {\n",
              "      background-color: #434B5C;\n",
              "      box-shadow: 0px 1px 3px 1px rgba(0, 0, 0, 0.15);\n",
              "      filter: drop-shadow(0px 1px 2px rgba(0, 0, 0, 0.3));\n",
              "      fill: #FFFFFF;\n",
              "    }\n",
              "  </style>\n",
              "\n",
              "    <script>\n",
              "      const buttonEl =\n",
              "        document.querySelector('#df-339d8491-47df-4917-8bab-677ea9c85f48 button.colab-df-convert');\n",
              "      buttonEl.style.display =\n",
              "        google.colab.kernel.accessAllowed ? 'block' : 'none';\n",
              "\n",
              "      async function convertToInteractive(key) {\n",
              "        const element = document.querySelector('#df-339d8491-47df-4917-8bab-677ea9c85f48');\n",
              "        const dataTable =\n",
              "          await google.colab.kernel.invokeFunction('convertToInteractive',\n",
              "                                                    [key], {});\n",
              "        if (!dataTable) return;\n",
              "\n",
              "        const docLinkHtml = 'Like what you see? Visit the ' +\n",
              "          '<a target=\"_blank\" href=https://colab.research.google.com/notebooks/data_table.ipynb>data table notebook</a>'\n",
              "          + ' to learn more about interactive tables.';\n",
              "        element.innerHTML = '';\n",
              "        dataTable['output_type'] = 'display_data';\n",
              "        await google.colab.output.renderOutput(dataTable, element);\n",
              "        const docLink = document.createElement('div');\n",
              "        docLink.innerHTML = docLinkHtml;\n",
              "        element.appendChild(docLink);\n",
              "      }\n",
              "    </script>\n",
              "  </div>\n",
              "\n",
              "\n",
              "    </div>\n",
              "  </div>\n"
            ],
            "application/vnd.google.colaboratory.intrinsic+json": {
              "type": "dataframe",
              "variable_name": "negative_fares"
            }
          },
          "metadata": {},
          "execution_count": 29
        }
      ],
      "source": [
        "# check where values of fare amount are negative\n",
        "\n",
        "# Filter rows where fare_amount is negative\n",
        "negative_fares = final_sampled_df[final_sampled_df[\"fare_amount\"] < 0]\n",
        "\n",
        "# Display the results\n",
        "print(f\"Number of negative fare values: {len(negative_fares)}\")\n",
        "negative_fares.head()"
      ]
    },
    {
      "cell_type": "markdown",
      "metadata": {
        "id": "JNKpDtTh8awi"
      },
      "source": [
        "Did you notice something different in the `RatecodeID` column for above records?"
      ]
    },
    {
      "cell_type": "code",
      "execution_count": 30,
      "metadata": {
        "id": "9eVrrj7c3kjq",
        "colab": {
          "base_uri": "https://localhost:8080/"
        },
        "outputId": "9be6a0cc-23a7-4513-d13e-7390e2733cc9"
      },
      "outputs": [
        {
          "output_type": "stream",
          "name": "stdout",
          "text": [
            "RatecodeID distribution for negative fare amounts:\n",
            "Series([], Name: count, dtype: int64)\n"
          ]
        }
      ],
      "source": [
        "# Analyse RatecodeID for the negative fare amounts\n",
        "\n",
        "# Filter rows where fare_amount is negative\n",
        "negative_fares = final_sampled_df[final_sampled_df[\"fare_amount\"] < 0]\n",
        "\n",
        "# Analyze RatecodeID distribution for negative fare amounts\n",
        "ratecode_analysis = negative_fares[\"RatecodeID\"].value_counts()\n",
        "\n",
        "# Display results\n",
        "print(\"RatecodeID distribution for negative fare amounts:\")\n",
        "print(ratecode_analysis)"
      ]
    },
    {
      "cell_type": "code",
      "execution_count": 32,
      "metadata": {
        "id": "Ruyh2vaCRNxr",
        "colab": {
          "base_uri": "https://localhost:8080/"
        },
        "outputId": "04a28e9d-e655-4f39-ac89-c1e815f8798d"
      },
      "outputs": [
        {
          "output_type": "stream",
          "name": "stdout",
          "text": [
            "Columns with negative values:\n",
            "Index(['extra', 'mta_tax', 'improvement_surcharge', 'total_amount',\n",
            "       'congestion_surcharge', 'airport_fee'],\n",
            "      dtype='object')\n"
          ]
        }
      ],
      "source": [
        "# Find which columns have negative values\n",
        "\n",
        "# Select only numeric columns\n",
        "numeric_cols = final_sampled_df.select_dtypes(include=[\"number\"])\n",
        "\n",
        "# Find columns with negative values\n",
        "negative_columns = numeric_cols.loc[:, (numeric_cols < 0).any()].columns\n",
        "\n",
        "# Display results\n",
        "print(\"Columns with negative values:\")\n",
        "print(negative_columns)"
      ]
    },
    {
      "cell_type": "code",
      "execution_count": 33,
      "metadata": {
        "id": "mPehZ6PJg3_J",
        "colab": {
          "base_uri": "https://localhost:8080/"
        },
        "outputId": "5b4b32e3-cfe3-4235-92af-8797177271a8"
      },
      "outputs": [
        {
          "output_type": "stream",
          "name": "stdout",
          "text": [
            "Fixed negative values in columns: Index(['extra', 'mta_tax', 'improvement_surcharge', 'total_amount',\n",
            "       'congestion_surcharge', 'airport_fee'],\n",
            "      dtype='object')\n",
            "<class 'pandas.core.frame.DataFrame'>\n",
            "RangeIndex: 1896400 entries, 0 to 1896399\n",
            "Data columns (total 21 columns):\n",
            " #   Column                 Dtype  \n",
            "---  ------                 -----  \n",
            " 0   VendorID               int64  \n",
            " 1   passenger_count        float64\n",
            " 2   trip_distance          float64\n",
            " 3   RatecodeID             float64\n",
            " 4   store_and_fwd_flag     object \n",
            " 5   PULocationID           int64  \n",
            " 6   DOLocationID           int64  \n",
            " 7   payment_type           int64  \n",
            " 8   fare_amount            float64\n",
            " 9   extra                  float64\n",
            " 10  mta_tax                float64\n",
            " 11  tip_amount             float64\n",
            " 12  tolls_amount           float64\n",
            " 13  improvement_surcharge  float64\n",
            " 14  total_amount           float64\n",
            " 15  congestion_surcharge   float64\n",
            " 16  airport_fee            float64\n",
            " 17  pickup_date            object \n",
            " 18  pickup_hour            int32  \n",
            " 19  dropoff_date           object \n",
            " 20  dropoff_time           object \n",
            "dtypes: float64(12), int32(1), int64(4), object(4)\n",
            "memory usage: 296.6+ MB\n"
          ]
        }
      ],
      "source": [
        "# fix these negative values\n",
        "\n",
        "# Fix negative values\n",
        "for col in negative_columns:\n",
        "    if col in [\"fare_amount\", \"total_amount\", \"tip_amount\", \"tolls_amount\", \"congestion_surcharge\"]:\n",
        "        # Set invalid fare-related values to NaN\n",
        "        final_sampled_df[col] = final_sampled_df[col].mask(final_sampled_df[col] < 0, None)\n",
        "    elif col in [\"trip_distance\", \"passenger_count\"]:\n",
        "        # Convert to absolute values\n",
        "        final_sampled_df[col] = final_sampled_df[col].abs()\n",
        "\n",
        "# Verify changes\n",
        "print(\"Fixed negative values in columns:\", negative_columns)\n",
        "final_sampled_df.info()"
      ]
    },
    {
      "cell_type": "markdown",
      "metadata": {
        "id": "x2hakCCy6wXI"
      },
      "source": [
        "### **2.2** Handling Missing Values\n",
        "<font color = red>[10 marks]</font> <br>"
      ]
    },
    {
      "cell_type": "markdown",
      "metadata": {
        "id": "-K-QNPDVVhzR"
      },
      "source": [
        "**2.2.1**  <font color = red>[2 marks]</font> <br>\n",
        "Find the proportion of missing values in each column\n",
        "\n",
        "\n"
      ]
    },
    {
      "cell_type": "code",
      "execution_count": 39,
      "metadata": {
        "id": "tfTa9cct6Gec",
        "colab": {
          "base_uri": "https://localhost:8080/"
        },
        "outputId": "f3ca149c-9982-4a66-d479-37fbbb64bc00"
      },
      "outputs": [
        {
          "output_type": "stream",
          "name": "stdout",
          "text": [
            "Proportion of missing values in each column:\n",
            "VendorID                 0.000000\n",
            "passenger_count          0.034209\n",
            "trip_distance            0.000000\n",
            "RatecodeID               0.034209\n",
            "store_and_fwd_flag       0.034209\n",
            "PULocationID             0.000000\n",
            "DOLocationID             0.000000\n",
            "payment_type             0.000000\n",
            "fare_amount              0.000000\n",
            "extra                    0.000000\n",
            "mta_tax                  0.000000\n",
            "tip_amount               0.000000\n",
            "tolls_amount             0.000000\n",
            "improvement_surcharge    0.000000\n",
            "total_amount             0.000041\n",
            "congestion_surcharge     0.034239\n",
            "airport_fee              0.034209\n",
            "pickup_date              0.000000\n",
            "pickup_hour              0.000000\n",
            "dropoff_date             0.000000\n",
            "dropoff_time             0.000000\n",
            "dtype: float64\n"
          ]
        }
      ],
      "source": [
        "# Find the proportion of missing values in each column\n",
        "\n",
        "# Calculate the proportion of missing values in each column\n",
        "missing_proportion = final_sampled_df.isnull().mean()\n",
        "\n",
        "# Display results\n",
        "print(\"Proportion of missing values in each column:\")\n",
        "print(missing_proportion)"
      ]
    },
    {
      "cell_type": "markdown",
      "metadata": {
        "id": "-UdUl6AL_-E_"
      },
      "source": [
        "**2.2.2**  <font color = red>[3 marks]</font> <br>\n",
        "Handling missing values in `passenger_count`"
      ]
    },
    {
      "cell_type": "code",
      "execution_count": 40,
      "metadata": {
        "id": "JmNmhr4q8Xys",
        "colab": {
          "base_uri": "https://localhost:8080/"
        },
        "outputId": "8b32624b-d81f-4ae6-ae41-cdc8534d6ece"
      },
      "outputs": [
        {
          "output_type": "stream",
          "name": "stdout",
          "text": [
            "Rows with null values:\n",
            "         VendorID  passenger_count  trip_distance  RatecodeID  \\\n",
            "5               2              NaN          19.24         NaN   \n",
            "16              2              NaN          10.77         NaN   \n",
            "43              2              NaN           4.52         NaN   \n",
            "44              2              NaN           9.19         NaN   \n",
            "47              2              NaN           2.74         NaN   \n",
            "...           ...              ...            ...         ...   \n",
            "1896375         2              NaN           4.10         NaN   \n",
            "1896379         2              NaN           3.24         NaN   \n",
            "1896390         2              NaN           8.38         NaN   \n",
            "1896392         2              NaN           0.76         NaN   \n",
            "1896398         1              NaN           0.00         NaN   \n",
            "\n",
            "        store_and_fwd_flag  PULocationID  DOLocationID  payment_type  \\\n",
            "5                     None            66           107             0   \n",
            "16                    None           151           106             0   \n",
            "43                    None           114           262             0   \n",
            "44                    None           239           256             0   \n",
            "47                    None            90            48             0   \n",
            "...                    ...           ...           ...           ...   \n",
            "1896375               None           140           249             0   \n",
            "1896379               None           229           239             0   \n",
            "1896390               None           244           137             0   \n",
            "1896392               None           141           140             0   \n",
            "1896398               None           166           244             0   \n",
            "\n",
            "         fare_amount  extra  ...  tip_amount  tolls_amount  \\\n",
            "5              25.64    0.0  ...        5.93          0.00   \n",
            "16             45.38    0.0  ...       11.19          6.55   \n",
            "43             25.38    0.0  ...        0.00          0.00   \n",
            "44             40.00    0.0  ...        2.20          0.00   \n",
            "47             18.48    0.0  ...        3.37          0.00   \n",
            "...              ...    ...  ...         ...           ...   \n",
            "1896375        23.47    0.0  ...        0.00          0.00   \n",
            "1896379        17.33    0.0  ...        0.00          0.00   \n",
            "1896390        34.93    0.0  ...        0.00          0.00   \n",
            "1896392         6.83    0.0  ...        0.00          0.00   \n",
            "1896398        14.64    0.0  ...        0.00          0.00   \n",
            "\n",
            "         improvement_surcharge  total_amount  congestion_surcharge  \\\n",
            "5                          1.0         35.57                   NaN   \n",
            "16                         1.0         67.12                   NaN   \n",
            "43                         1.0         29.38                   NaN   \n",
            "44                         1.0         46.20                   NaN   \n",
            "47                         1.0         25.85                   NaN   \n",
            "...                        ...           ...                   ...   \n",
            "1896375                    1.0         27.47                   NaN   \n",
            "1896379                    1.0         21.33                   NaN   \n",
            "1896390                    1.0         38.93                   NaN   \n",
            "1896392                    1.0         10.83                   NaN   \n",
            "1896398                    1.0         16.14                   NaN   \n",
            "\n",
            "         airport_fee  pickup_date pickup_hour  dropoff_date dropoff_time  \n",
            "5                NaN   2023-01-01           0    2023-01-01     01:01:00  \n",
            "16               NaN   2023-01-01           0    2023-01-01     01:14:50  \n",
            "43               NaN   2023-01-01           0    2023-01-01     00:54:18  \n",
            "44               NaN   2023-01-01           0    2023-01-01     01:13:49  \n",
            "47               NaN   2023-01-01           0    2023-01-01     01:19:06  \n",
            "...              ...          ...         ...           ...          ...  \n",
            "1896375          NaN   2023-12-31          23    2023-12-31     23:36:00  \n",
            "1896379          NaN   2023-12-31          23    2023-12-31     23:18:01  \n",
            "1896390          NaN   2023-12-31          23    2024-01-01     00:02:48  \n",
            "1896392          NaN   2023-12-31          23    2023-12-31     23:39:21  \n",
            "1896398          NaN   2023-12-31          23    2023-12-31     23:21:12  \n",
            "\n",
            "[64952 rows x 21 columns]\n",
            "\n",
            "Missing values after imputation:\n",
            "0\n"
          ]
        },
        {
          "output_type": "stream",
          "name": "stderr",
          "text": [
            "<ipython-input-40-56e0236e6170>:10: FutureWarning: A value is trying to be set on a copy of a DataFrame or Series through chained assignment using an inplace method.\n",
            "The behavior will change in pandas 3.0. This inplace method will never work because the intermediate object on which we are setting values always behaves as a copy.\n",
            "\n",
            "For example, when doing 'df[col].method(value, inplace=True)', try using 'df.method({col: value}, inplace=True)' or df[col] = df[col].method(value) instead, to perform the operation inplace on the original object.\n",
            "\n",
            "\n",
            "  final_sampled_df[\"passenger_count\"].fillna(final_sampled_df[\"passenger_count\"].median(), inplace=True)\n"
          ]
        }
      ],
      "source": [
        "# Display the rows with null values\n",
        "# Impute NaN values in 'passenger_count'\n",
        "\n",
        "# Display rows with null values\n",
        "null_rows = final_sampled_df[final_sampled_df.isnull().any(axis=1)]\n",
        "print(\"Rows with null values:\")\n",
        "print(null_rows)\n",
        "\n",
        "# Impute NaN values in 'passenger_count' with the median value\n",
        "final_sampled_df[\"passenger_count\"].fillna(final_sampled_df[\"passenger_count\"].median(), inplace=True)\n",
        "\n",
        "# Verify changes\n",
        "print(\"\\nMissing values after imputation:\")\n",
        "print(final_sampled_df[\"passenger_count\"].isnull().sum())"
      ]
    },
    {
      "cell_type": "markdown",
      "metadata": {
        "id": "hIPCyR6UCw0c"
      },
      "source": [
        "Did you find zeroes in passenger_count? Handle these."
      ]
    },
    {
      "cell_type": "code",
      "source": [
        "# Find median passenger count (ignoring NaNs)\n",
        "median_passengers = final_sampled_df[\"passenger_count\"].median()\n",
        "\n",
        "# Impute NaN values with median\n",
        "final_sampled_df[\"passenger_count\"].fillna(median_passengers, inplace=True)\n",
        "\n",
        "# Replace zero values with median\n",
        "final_sampled_df.loc[final_sampled_df[\"passenger_count\"] == 0, \"passenger_count\"] = median_passengers\n",
        "\n",
        "# Verify changes\n",
        "print(\"Missing values after imputation:\", final_sampled_df[\"passenger_count\"].isnull().sum())\n",
        "print(\"Zero values after replacement:\", (final_sampled_df[\"passenger_count\"] == 0).sum())"
      ],
      "metadata": {
        "colab": {
          "base_uri": "https://localhost:8080/"
        },
        "id": "DYGmE_1vDlue",
        "outputId": "04dbac77-e0cb-4ede-cc4e-512843e57524"
      },
      "execution_count": 41,
      "outputs": [
        {
          "output_type": "stream",
          "name": "stdout",
          "text": [
            "Missing values after imputation: 0\n",
            "Zero values after replacement: 0\n"
          ]
        },
        {
          "output_type": "stream",
          "name": "stderr",
          "text": [
            "<ipython-input-41-8f916217e5cc>:5: FutureWarning: A value is trying to be set on a copy of a DataFrame or Series through chained assignment using an inplace method.\n",
            "The behavior will change in pandas 3.0. This inplace method will never work because the intermediate object on which we are setting values always behaves as a copy.\n",
            "\n",
            "For example, when doing 'df[col].method(value, inplace=True)', try using 'df.method({col: value}, inplace=True)' or df[col] = df[col].method(value) instead, to perform the operation inplace on the original object.\n",
            "\n",
            "\n",
            "  final_sampled_df[\"passenger_count\"].fillna(median_passengers, inplace=True)\n"
          ]
        }
      ]
    },
    {
      "cell_type": "markdown",
      "metadata": {
        "id": "IUr4fwkjBUTQ"
      },
      "source": [
        "**2.2.3**  <font color = red>[2 marks]</font> <br>\n",
        "Handle missing values in `RatecodeID`"
      ]
    },
    {
      "cell_type": "code",
      "execution_count": 42,
      "metadata": {
        "id": "qEgFxytzBkrB",
        "colab": {
          "base_uri": "https://localhost:8080/"
        },
        "outputId": "41a996c2-0537-4080-f15d-3cfbfb44d8ce"
      },
      "outputs": [
        {
          "output_type": "stream",
          "name": "stdout",
          "text": [
            "Missing values after imputation: 0\n"
          ]
        },
        {
          "output_type": "stream",
          "name": "stderr",
          "text": [
            "<ipython-input-42-f7fa081323c8>:7: FutureWarning: A value is trying to be set on a copy of a DataFrame or Series through chained assignment using an inplace method.\n",
            "The behavior will change in pandas 3.0. This inplace method will never work because the intermediate object on which we are setting values always behaves as a copy.\n",
            "\n",
            "For example, when doing 'df[col].method(value, inplace=True)', try using 'df.method({col: value}, inplace=True)' or df[col] = df[col].method(value) instead, to perform the operation inplace on the original object.\n",
            "\n",
            "\n",
            "  final_sampled_df[\"RatecodeID\"].fillna(mode_ratecode, inplace=True)\n"
          ]
        }
      ],
      "source": [
        "# Fix missing values in 'RatecodeID'\n",
        "\n",
        "# Check the most frequent RatecodeID (mode)\n",
        "mode_ratecode = final_sampled_df[\"RatecodeID\"].mode()[0]\n",
        "\n",
        "# Impute missing values with mode\n",
        "final_sampled_df[\"RatecodeID\"].fillna(mode_ratecode, inplace=True)\n",
        "\n",
        "# Verify changes\n",
        "print(\"Missing values after imputation:\", final_sampled_df[\"RatecodeID\"].isnull().sum())"
      ]
    },
    {
      "cell_type": "markdown",
      "metadata": {
        "id": "0TjHXzuODCUW"
      },
      "source": [
        "**2.2.4**  <font color = red>[3 marks]</font> <br>\n",
        "Impute NaN in `congestion_surcharge`"
      ]
    },
    {
      "cell_type": "code",
      "execution_count": 43,
      "metadata": {
        "id": "HqnabUGC3xOA",
        "colab": {
          "base_uri": "https://localhost:8080/"
        },
        "outputId": "bb7326d7-e412-48a1-cb61-626edaffa96c"
      },
      "outputs": [
        {
          "output_type": "stream",
          "name": "stdout",
          "text": [
            "Missing values after imputation: 0\n"
          ]
        },
        {
          "output_type": "stream",
          "name": "stderr",
          "text": [
            "<ipython-input-43-e2ed278ba4e7>:8: FutureWarning: A value is trying to be set on a copy of a DataFrame or Series through chained assignment using an inplace method.\n",
            "The behavior will change in pandas 3.0. This inplace method will never work because the intermediate object on which we are setting values always behaves as a copy.\n",
            "\n",
            "For example, when doing 'df[col].method(value, inplace=True)', try using 'df.method({col: value}, inplace=True)' or df[col] = df[col].method(value) instead, to perform the operation inplace on the original object.\n",
            "\n",
            "\n",
            "  final_sampled_df[\"congestion_surcharge\"].fillna(mode_congestion, inplace=True)\n"
          ]
        }
      ],
      "source": [
        "# handle null values in congestion_surcharge\n",
        "\n",
        "# Check mode and median of congestion_surcharge\n",
        "mode_congestion = final_sampled_df[\"congestion_surcharge\"].mode()[0]\n",
        "median_congestion = final_sampled_df[\"congestion_surcharge\"].median()\n",
        "\n",
        "# Choose an imputation strategy (mode or median)\n",
        "final_sampled_df[\"congestion_surcharge\"].fillna(mode_congestion, inplace=True)\n",
        "\n",
        "# Verify changes\n",
        "print(\"Missing values after imputation:\", final_sampled_df[\"congestion_surcharge\"].isnull().sum())"
      ]
    },
    {
      "cell_type": "markdown",
      "metadata": {
        "id": "4FZEdgAgUbPl"
      },
      "source": [
        "Are there missing values in other columns? Did you find NaN values in some other set of columns? Handle those missing values below."
      ]
    },
    {
      "cell_type": "code",
      "execution_count": 44,
      "metadata": {
        "id": "iDLpyqCRXa3K",
        "colab": {
          "base_uri": "https://localhost:8080/"
        },
        "outputId": "e83d278d-48d9-4c80-f12a-0587ccfee40d"
      },
      "outputs": [
        {
          "output_type": "stream",
          "name": "stdout",
          "text": [
            "Missing values before handling:\n",
            " VendorID                     0\n",
            "passenger_count              0\n",
            "trip_distance                0\n",
            "RatecodeID                   0\n",
            "store_and_fwd_flag       64874\n",
            "PULocationID                 0\n",
            "DOLocationID                 0\n",
            "payment_type                 0\n",
            "fare_amount                  0\n",
            "extra                        0\n",
            "mta_tax                      0\n",
            "tip_amount                   0\n",
            "tolls_amount                 0\n",
            "improvement_surcharge        0\n",
            "total_amount                78\n",
            "congestion_surcharge         0\n",
            "airport_fee              64874\n",
            "pickup_date                  0\n",
            "pickup_hour                  0\n",
            "dropoff_date                 0\n",
            "dropoff_time                 0\n",
            "dtype: int64\n"
          ]
        },
        {
          "output_type": "stream",
          "name": "stderr",
          "text": [
            "<ipython-input-44-50b8da56a15f>:14: FutureWarning: A value is trying to be set on a copy of a DataFrame or Series through chained assignment using an inplace method.\n",
            "The behavior will change in pandas 3.0. This inplace method will never work because the intermediate object on which we are setting values always behaves as a copy.\n",
            "\n",
            "For example, when doing 'df[col].method(value, inplace=True)', try using 'df.method({col: value}, inplace=True)' or df[col] = df[col].method(value) instead, to perform the operation inplace on the original object.\n",
            "\n",
            "\n",
            "  final_sampled_df[col].fillna(final_sampled_df[col].median(), inplace=True)\n",
            "<ipython-input-44-50b8da56a15f>:11: FutureWarning: A value is trying to be set on a copy of a DataFrame or Series through chained assignment using an inplace method.\n",
            "The behavior will change in pandas 3.0. This inplace method will never work because the intermediate object on which we are setting values always behaves as a copy.\n",
            "\n",
            "For example, when doing 'df[col].method(value, inplace=True)', try using 'df.method({col: value}, inplace=True)' or df[col] = df[col].method(value) instead, to perform the operation inplace on the original object.\n",
            "\n",
            "\n",
            "  final_sampled_df[col].fillna(final_sampled_df[col].mode()[0], inplace=True)\n"
          ]
        },
        {
          "output_type": "stream",
          "name": "stdout",
          "text": [
            "\n",
            "Missing values after handling:\n",
            " VendorID                 0\n",
            "passenger_count          0\n",
            "trip_distance            0\n",
            "RatecodeID               0\n",
            "store_and_fwd_flag       0\n",
            "PULocationID             0\n",
            "DOLocationID             0\n",
            "payment_type             0\n",
            "fare_amount              0\n",
            "extra                    0\n",
            "mta_tax                  0\n",
            "tip_amount               0\n",
            "tolls_amount             0\n",
            "improvement_surcharge    0\n",
            "total_amount             0\n",
            "congestion_surcharge     0\n",
            "airport_fee              0\n",
            "pickup_date              0\n",
            "pickup_hour              0\n",
            "dropoff_date             0\n",
            "dropoff_time             0\n",
            "dtype: int64\n"
          ]
        }
      ],
      "source": [
        "# Handle any remaining missing values\n",
        "\n",
        "# Check the total missing values in each column\n",
        "missing_values = final_sampled_df.isnull().sum()\n",
        "print(\"Missing values before handling:\\n\", missing_values)\n",
        "\n",
        "# Impute missing values based on column type\n",
        "for col in final_sampled_df.columns:\n",
        "    if final_sampled_df[col].dtype == \"object\":\n",
        "        # Fill categorical columns with mode (most frequent value)\n",
        "        final_sampled_df[col].fillna(final_sampled_df[col].mode()[0], inplace=True)\n",
        "    else:\n",
        "        # Fill numerical columns with median\n",
        "        final_sampled_df[col].fillna(final_sampled_df[col].median(), inplace=True)\n",
        "\n",
        "# Verify changes\n",
        "print(\"\\nMissing values after handling:\\n\", final_sampled_df.isnull().sum())"
      ]
    },
    {
      "cell_type": "markdown",
      "metadata": {
        "id": "2jyQyYIpCztl"
      },
      "source": [
        "### **2.3** Handling Outliers\n",
        "<font color = red>[10 marks]</font> <br>"
      ]
    },
    {
      "cell_type": "markdown",
      "metadata": {
        "id": "ZoVwZzuEMTHB"
      },
      "source": [
        "Before we start fixing outliers, let's perform outlier analysis."
      ]
    },
    {
      "cell_type": "code",
      "execution_count": 45,
      "metadata": {
        "id": "zHK5K6uV8XpU",
        "colab": {
          "base_uri": "https://localhost:8080/",
          "height": 1000
        },
        "outputId": "426a9b69-6245-429e-acd5-6cb3305630d9"
      },
      "outputs": [
        {
          "output_type": "stream",
          "name": "stdout",
          "text": [
            "Dataset Summary:\n",
            "            VendorID  passenger_count  trip_distance    RatecodeID  \\\n",
            "count  1.896400e+06     1.896400e+06   1.896400e+06  1.896400e+06   \n",
            "mean   1.733026e+00     1.372236e+00   3.858293e+00  1.612981e+00   \n",
            "std    4.476401e-01     8.644038e-01   1.294085e+02  7.267261e+00   \n",
            "min    1.000000e+00     1.000000e+00   0.000000e+00  1.000000e+00   \n",
            "25%    1.000000e+00     1.000000e+00   1.050000e+00  1.000000e+00   \n",
            "50%    2.000000e+00     1.000000e+00   1.790000e+00  1.000000e+00   \n",
            "75%    2.000000e+00     1.000000e+00   3.400000e+00  1.000000e+00   \n",
            "max    6.000000e+00     9.000000e+00   1.263605e+05  9.900000e+01   \n",
            "\n",
            "       PULocationID  DOLocationID  payment_type   fare_amount         extra  \\\n",
            "count  1.896400e+06  1.896400e+06  1.896400e+06  1.896400e+06  1.896400e+06   \n",
            "mean   1.652814e+02  1.640515e+02  1.163817e+00  1.991935e+01  1.588018e+00   \n",
            "std    6.400038e+01  6.980207e+01  5.081384e-01  1.055371e+02  1.829200e+00   \n",
            "min    1.000000e+00  1.000000e+00  0.000000e+00  0.000000e+00 -2.500000e+00   \n",
            "25%    1.320000e+02  1.140000e+02  1.000000e+00  9.300000e+00  0.000000e+00   \n",
            "50%    1.620000e+02  1.620000e+02  1.000000e+00  1.350000e+01  1.000000e+00   \n",
            "75%    2.340000e+02  2.340000e+02  1.000000e+00  2.190000e+01  2.500000e+00   \n",
            "max    2.650000e+02  2.650000e+02  4.000000e+00  1.431635e+05  2.080000e+01   \n",
            "\n",
            "            mta_tax    tip_amount  tolls_amount  improvement_surcharge  \\\n",
            "count  1.896400e+06  1.896400e+06  1.896400e+06           1.896400e+06   \n",
            "mean   4.952796e-01  3.547011e+00  5.965338e-01           9.989706e-01   \n",
            "std    4.885128e-02  4.054882e+00  2.187878e+00           3.112072e-02   \n",
            "min   -5.000000e-01  0.000000e+00  0.000000e+00          -1.000000e+00   \n",
            "25%    5.000000e-01  1.000000e+00  0.000000e+00           1.000000e+00   \n",
            "50%    5.000000e-01  2.850000e+00  0.000000e+00           1.000000e+00   \n",
            "75%    5.000000e-01  4.420000e+00  0.000000e+00           1.000000e+00   \n",
            "max    4.000000e+00  2.230800e+02  1.430000e+02           1.000000e+00   \n",
            "\n",
            "       total_amount  congestion_surcharge   airport_fee   pickup_hour  \n",
            "count  1.896400e+06          1.896400e+06  1.896400e+06  1.896400e+06  \n",
            "mean   2.898287e+01          2.314256e+00  1.380093e-01  1.426504e+01  \n",
            "std    1.064160e+02          6.556359e-01  4.575896e-01  5.807381e+00  \n",
            "min    0.000000e+00          0.000000e+00 -1.750000e+00  0.000000e+00  \n",
            "25%    1.596000e+01          2.500000e+00  0.000000e+00  1.100000e+01  \n",
            "50%    2.100000e+01          2.500000e+00  0.000000e+00  1.500000e+01  \n",
            "75%    3.094000e+01          2.500000e+00  0.000000e+00  1.900000e+01  \n",
            "max    1.431675e+05          2.500000e+00  1.750000e+00  2.300000e+01  \n",
            "\n",
            "Potential outliers detected:\n",
            "VendorID: 444 outliers\n",
            "passenger_count: 424621 outliers\n",
            "trip_distance: 249302 outliers\n",
            "RatecodeID: 102267 outliers\n",
            "payment_type: 404026 outliers\n",
            "fare_amount: 197413 outliers\n",
            "extra: 34047 outliers\n",
            "mta_tax: 17944 outliers\n",
            "tip_amount: 145673 outliers\n",
            "tolls_amount: 153802 outliers\n",
            "improvement_surcharge: 2259 outliers\n",
            "total_amount: 218083 outliers\n",
            "congestion_surcharge: 140898 outliers\n",
            "airport_fee: 160962 outliers\n"
          ]
        },
        {
          "output_type": "display_data",
          "data": {
            "text/plain": [
              "<Figure size 1500x800 with 1 Axes>"
            ],
            "image/png": "[encoded data removed]"
          },
          "metadata": {}
        }
      ],
      "source": [
        "# Describe the data and check if there are any potential outliers present\n",
        "# Check for potential out of place values in various columns\n",
        "\n",
        "# 1. Describe the dataset\n",
        "print(\"Dataset Summary:\\n\", final_sampled_df.describe())\n",
        "\n",
        "# 2. Detect outliers using the IQR method\n",
        "def detect_outliers_iqr(df, column):\n",
        "    Q1 = df[column].quantile(0.25)  # 25th percentile\n",
        "    Q3 = df[column].quantile(0.75)  # 75th percentile\n",
        "    IQR = Q3 - Q1  # Interquartile Range\n",
        "    lower_bound = Q1 - 1.5 * IQR\n",
        "    upper_bound = Q3 + 1.5 * IQR\n",
        "\n",
        "    outliers = df[(df[column] < lower_bound) | (df[column] > upper_bound)]\n",
        "    return outliers\n",
        "\n",
        "# Select numeric columns for outlier detection\n",
        "numeric_cols = final_sampled_df.select_dtypes(include=[\"number\"]).columns\n",
        "\n",
        "# Detect outliers for all numeric columns\n",
        "outlier_dict = {}\n",
        "for col in numeric_cols:\n",
        "    outliers = detect_outliers_iqr(final_sampled_df, col)\n",
        "    outlier_dict[col] = len(outliers)\n",
        "\n",
        "# Print columns with outliers\n",
        "print(\"\\nPotential outliers detected:\")\n",
        "for col, count in outlier_dict.items():\n",
        "    if count > 0:\n",
        "        print(f\"{col}: {count} outliers\")\n",
        "\n",
        "# 3. Visualize potential outliers using boxplots\n",
        "plt.figure(figsize=(15, 8))\n",
        "final_sampled_df[numeric_cols].boxplot(rot=90)\n",
        "plt.title(\"Boxplots of Numeric Columns (Potential Outliers)\")\n",
        "plt.show()"
      ]
    },
    {
      "cell_type": "markdown",
      "metadata": {
        "id": "4XDuLkufyJ2g"
      },
      "source": [
        "**2.3.1**  <font color = red>[10 marks]</font> <br>\n",
        "Based on the above analysis, it seems that some of the outliers are present due to errors in registering the trips. Fix the outliers.\n",
        "\n",
        "Some points you can look for:\n",
        "- Entries where `trip_distance` is nearly 0 and `fare_amount` is more than 300\n",
        "- Entries where `trip_distance` and `fare_amount` are 0 but the pickup and dropoff zones are different (both distance and fare should not be zero for different zones)\n",
        "- Entries where `trip_distance` is more than 250  miles.\n",
        "- Entries where `payment_type` is 0 (there is no payment_type 0 defined in the data dictionary)\n",
        "\n",
        "These are just some suggestions. You can handle outliers in any way you wish, using the insights from above outlier analysis."
      ]
    },
    {
      "cell_type": "markdown",
      "metadata": {
        "id": "u-YNHI8tea9c"
      },
      "source": [
        "How will you fix each of these values? Which ones will you drop and which ones will you replace?"
      ]
    },
    {
      "cell_type": "markdown",
      "metadata": {
        "id": "Ap4IfwXO4yZe"
      },
      "source": [
        "First, let us remove 7+ passenger counts as there are very less instances."
      ]
    },
    {
      "cell_type": "code",
      "execution_count": 46,
      "metadata": {
        "id": "XfsOFY5y9-fA",
        "colab": {
          "base_uri": "https://localhost:8080/"
        },
        "outputId": "16f0fbf7-015b-4eac-fa02-5cafc4c71ffc"
      },
      "outputs": [
        {
          "output_type": "stream",
          "name": "stdout",
          "text": [
            "Outlier fixes applied. New dataset shape: (1831391, 21)\n"
          ]
        }
      ],
      "source": [
        "# remove passenger_count > 6\n",
        "\n",
        "# Remove rows where passenger_count > 6\n",
        "final_sampled_df = final_sampled_df[final_sampled_df[\"passenger_count\"] <= 6]\n",
        "\n",
        "# Drop trips where trip_distance is near 0 but fare_amount is more than $300\n",
        "final_sampled_df = final_sampled_df[~((final_sampled_df[\"trip_distance\"] <= 0.1) & (final_sampled_df[\"fare_amount\"] > 300))]\n",
        "\n",
        "# Drop trips where trip_distance = 0 and fare_amount = 0 but different pickup & dropoff zones\n",
        "final_sampled_df = final_sampled_df[~((final_sampled_df[\"trip_distance\"] == 0) &\n",
        "                                      (final_sampled_df[\"fare_amount\"] == 0) &\n",
        "                                      (final_sampled_df[\"PULocationID\"] != final_sampled_df[\"DOLocationID\"]))]\n",
        "\n",
        "# Drop trips where trip_distance > 250 miles (highly unrealistic for NYC)\n",
        "final_sampled_df = final_sampled_df[final_sampled_df[\"trip_distance\"] <= 250]\n",
        "\n",
        "# Drop rows where payment_type is 0 (invalid)\n",
        "final_sampled_df = final_sampled_df[final_sampled_df[\"payment_type\"] != 0]\n",
        "\n",
        "# Verify changes\n",
        "print(\"Outlier fixes applied. New dataset shape:\", final_sampled_df.shape)"
      ]
    },
    {
      "cell_type": "code",
      "execution_count": null,
      "metadata": {
        "id": "FCUNe3tu8bie"
      },
      "outputs": [],
      "source": [
        "# Continue with outlier handling\n",
        "\n"
      ]
    },
    {
      "cell_type": "code",
      "execution_count": null,
      "metadata": {
        "id": "PuzQXfuT8YKV"
      },
      "outputs": [],
      "source": [
        "# Do any columns need standardising?\n",
        "\n"
      ]
    },
    {
      "cell_type": "markdown",
      "metadata": {
        "id": "gPpJyFFNffcL"
      },
      "source": [
        "## **3** Exploratory Data Analysis\n",
        "<font color = red>[90 marks]</font> <br>"
      ]
    },
    {
      "cell_type": "code",
      "execution_count": null,
      "metadata": {
        "id": "cl-0PcYTfkqh"
      },
      "outputs": [],
      "source": [
        "df.columns.tolist()"
      ]
    },
    {
      "cell_type": "markdown",
      "metadata": {
        "id": "a4N3PvkSTwcN"
      },
      "source": [
        "#### **3.1** General EDA: Finding Patterns and Trends\n",
        "<font color = red>[40 marks]</font> <br>"
      ]
    },
    {
      "cell_type": "markdown",
      "metadata": {
        "id": "9hwonDfZTJO6"
      },
      "source": [
        "**3.1.1** <font color = red>[3 marks]</font> <br>\n",
        "Categorise the varaibles into Numerical or Categorical.\n",
        "* `VendorID`:\n",
        "* `tpep_pickup_datetime`:\n",
        "* `tpep_dropoff_datetime`:\n",
        "* `passenger_count`:\n",
        "* `trip_distance`:\n",
        "* `RatecodeID`:\n",
        "* `PULocationID`:\n",
        "* `DOLocationID`:\n",
        "* `payment_type`:\n",
        "* `pickup_hour`:\n",
        "* `trip_duration`:\n",
        "\n",
        "\n",
        "The following monetary parameters belong in the same category, is it categorical or numerical?\n",
        "\n",
        "\n",
        "* `fare_amount`\n",
        "* `extra`\n",
        "* `mta_tax`\n",
        "* `tip_amount`\n",
        "* `tolls_amount`\n",
        "* `improvement_surcharge`\n",
        "* `total_amount`\n",
        "* `congestion_surcharge`\n",
        "* `airport_fee`"
      ]
    },
    {
      "cell_type": "markdown",
      "metadata": {
        "id": "MbGMjArkiXjL"
      },
      "source": [
        "##### Temporal Analysis"
      ]
    },
    {
      "cell_type": "markdown",
      "metadata": {
        "id": "ZCCbmQ49s2qj"
      },
      "source": [
        "**3.1.2** <font color = red>[5 marks]</font> <br>\n",
        "Analyse the distribution of taxi pickups by hours, days of the week, and months."
      ]
    },
    {
      "cell_type": "code",
      "execution_count": null,
      "metadata": {
        "id": "RwgWN_MWg0Au"
      },
      "outputs": [],
      "source": [
        "# Find and show the hourly trends in taxi pickups\n",
        "\n"
      ]
    },
    {
      "cell_type": "code",
      "execution_count": null,
      "metadata": {
        "id": "R64b8zfkG5OK"
      },
      "outputs": [],
      "source": [
        "# Find and show the daily trends in taxi pickups (days of the week)\n",
        "\n"
      ]
    },
    {
      "cell_type": "code",
      "execution_count": null,
      "metadata": {
        "id": "H7V-jmRQG5hJ"
      },
      "outputs": [],
      "source": [
        "# Show the monthly trends in pickups\n",
        "\n"
      ]
    },
    {
      "cell_type": "markdown",
      "metadata": {
        "id": "23IqsgNjHNpJ"
      },
      "source": [
        "##### Financial Analysis"
      ]
    },
    {
      "cell_type": "markdown",
      "metadata": {
        "id": "fRaO-3NqHSM6"
      },
      "source": [
        "Take a look at the financial parameters like `fare_amount`, `tip_amount`, `total_amount`, and also `trip_distance`. Do these contain zero/negative values?"
      ]
    },
    {
      "cell_type": "code",
      "execution_count": null,
      "metadata": {
        "id": "Z7JUnPeRHRqF"
      },
      "outputs": [],
      "source": [
        "# Analyse the above parameters\n",
        "\n"
      ]
    },
    {
      "cell_type": "markdown",
      "metadata": {
        "id": "dbOS_-GDJTyv"
      },
      "source": [
        "Do you think it is beneficial to create a copy DataFrame leaving out the zero values from these?"
      ]
    },
    {
      "cell_type": "markdown",
      "metadata": {
        "id": "YDN14J63o9gV"
      },
      "source": [
        "**3.1.3** <font color = red>[2 marks]</font> <br>\n",
        "Filter out the zero values from the above columns.\n",
        "\n",
        "**Note:** The distance might be 0 in cases where pickup and drop is in the same zone. Do you think it is suitable to drop such cases of zero distance?"
      ]
    },
    {
      "cell_type": "code",
      "execution_count": null,
      "metadata": {
        "id": "5mk7Yp41JqJd"
      },
      "outputs": [],
      "source": [
        "# Create a df with non zero entries for the selected parameters.\n",
        "\n"
      ]
    },
    {
      "cell_type": "markdown",
      "metadata": {
        "id": "kJcgwyrtKivH"
      },
      "source": [
        "**3.1.4** <font color = red>[3 marks]</font> <br>\n",
        "Analyse the monthly revenue (`total_amount`) trend"
      ]
    },
    {
      "cell_type": "code",
      "execution_count": null,
      "metadata": {
        "id": "U_gl8rBD6ZH0"
      },
      "outputs": [],
      "source": [
        "# Group data by month and analyse monthly revenue\n",
        "\n"
      ]
    },
    {
      "cell_type": "markdown",
      "metadata": {
        "id": "3vQHosTZLalB"
      },
      "source": [
        "**3.1.5** <font color = red>[3 marks]</font> <br>\n",
        "Show the proportion of each quarter of the year in the revenue"
      ]
    },
    {
      "cell_type": "code",
      "execution_count": null,
      "metadata": {
        "id": "foV9BpFbVTbu"
      },
      "outputs": [],
      "source": [
        "# Calculate proportion of each quarter\n",
        "\n"
      ]
    },
    {
      "cell_type": "markdown",
      "metadata": {
        "id": "JncXEPjBLyHp"
      },
      "source": [
        "**3.1.6** <font color = red>[3 marks]</font> <br>\n",
        "Visualise the relationship between `trip_distance` and `fare_amount`. Also find the correlation value for these two.\n",
        "\n",
        "**Hint:** You can leave out the trips with trip_distance = 0"
      ]
    },
    {
      "cell_type": "code",
      "execution_count": null,
      "metadata": {
        "id": "-z8Fegh_P5At"
      },
      "outputs": [],
      "source": [
        "# Show how trip fare is affected by distance\n",
        "\n"
      ]
    },
    {
      "cell_type": "markdown",
      "metadata": {
        "id": "-OGNFTX4QdeS"
      },
      "source": [
        "**3.1.7** <font color = red>[5 marks]</font> <br>\n",
        "Find and visualise the correlation between:\n",
        "1. `fare_amount` and trip duration (pickup time to dropoff time)\n",
        "2. `fare_amount` and `passenger_count`\n",
        "3. `tip_amount` and `trip_distance`"
      ]
    },
    {
      "cell_type": "code",
      "execution_count": null,
      "metadata": {
        "id": "EtSNqFw19TB3"
      },
      "outputs": [],
      "source": [
        "# Show relationship between fare and trip duration\n",
        "\n"
      ]
    },
    {
      "cell_type": "code",
      "execution_count": null,
      "metadata": {
        "id": "oTrlXiBm9TB3"
      },
      "outputs": [],
      "source": [
        "# Show relationship between fare and number of passengers\n",
        "\n"
      ]
    },
    {
      "cell_type": "code",
      "execution_count": null,
      "metadata": {
        "id": "Lph7rakc9TB3"
      },
      "outputs": [],
      "source": [
        "# Show relationship between tip and trip distance\n",
        "\n"
      ]
    },
    {
      "cell_type": "markdown",
      "metadata": {
        "id": "3EL5CU47QJ5u"
      },
      "source": [
        "**3.1.8** <font color = red>[3 marks]</font> <br>\n",
        "Analyse the distribution of different payment types (`payment_type`)"
      ]
    },
    {
      "cell_type": "code",
      "execution_count": null,
      "metadata": {
        "id": "pknOiYLp9Wnd"
      },
      "outputs": [],
      "source": [
        "# Analyse the distribution of different payment types (payment_type).\n",
        "\n",
        "\n"
      ]
    },
    {
      "cell_type": "markdown",
      "metadata": {
        "id": "PxxbUmSZ9Wne"
      },
      "source": [
        "- 1= Credit card\n",
        "- 2= Cash\n",
        "- 3= No charge\n",
        "- 4= Dispute\n",
        "\n"
      ]
    },
    {
      "cell_type": "markdown",
      "metadata": {
        "id": "CVXxcSYHj9sh"
      },
      "source": [
        "##### Geographical Analysis"
      ]
    },
    {
      "cell_type": "markdown",
      "metadata": {
        "id": "tvBXuYW7kEyS"
      },
      "source": [
        "For this, you have to use the *taxi_zones.shp* file from the *taxi_zones* folder.\n",
        "\n",
        "There would be multiple files inside the folder (such as *.shx, .sbx, .sbn* etc). You do not need to import/read any of the files other than the shapefile, *taxi_zones.shp*.\n",
        "\n",
        "Do not change any folder structure - all the files need to be present inside the folder for it to work.\n",
        "\n",
        "The folder structure should look like this:\n",
        "```\n",
        "Taxi Zones\n",
        "|- taxi_zones.shp.xml\n",
        "|- taxi_zones.prj\n",
        "|- taxi_zones.sbn\n",
        "|- taxi_zones.shp\n",
        "|- taxi_zones.dbf\n",
        "|- taxi_zones.shx\n",
        "|- taxi_zones.sbx\n",
        "\n",
        " ```\n",
        "\n",
        " You only need to read the `taxi_zones.shp` file. The *shp* file will utilise the other files by itself."
      ]
    },
    {
      "cell_type": "markdown",
      "metadata": {
        "id": "hR8f8ypXUtxJ"
      },
      "source": [
        "We will use the *GeoPandas* library for geopgraphical analysis\n",
        "```\n",
        "import geopandas as gpd\n",
        "```\n",
        "\n",
        "More about geopandas and shapefiles: [About](https://geopandas.org/en/stable/about.html)\n",
        "\n",
        "\n",
        "Reading the shapefile is very similar to *Pandas*. Use `gpd.read_file()` function to load the data (*taxi_zones.shp*) as a GeoDataFrame. Documentation: [Reading and Writing Files](https://geopandas.org/en/stable/docs/user_guide/io.html)"
      ]
    },
    {
      "cell_type": "code",
      "execution_count": null,
      "metadata": {
        "id": "FJ76QD9IXNz8"
      },
      "outputs": [],
      "source": [
        "# !pip install geopandas"
      ]
    },
    {
      "cell_type": "markdown",
      "metadata": {
        "id": "q_QpZLl_WU-b"
      },
      "source": [
        "**3.1.9** <font color = red>[2 marks]</font> <br>\n",
        "Load the shapefile and display it."
      ]
    },
    {
      "cell_type": "code",
      "execution_count": null,
      "metadata": {
        "id": "hLyVd3TQkCdG"
      },
      "outputs": [],
      "source": [
        "# import geopandas as gpd\n",
        "\n",
        "\n",
        "# Read the shapefile using geopandas\n",
        "zones = # read the .shp file using gpd\n",
        "zones.head()"
      ]
    },
    {
      "cell_type": "markdown",
      "metadata": {
        "id": "8YXJMzRoWxeg"
      },
      "source": [
        "Now, if you look at the DataFrame created, you will see columns like: `OBJECTID`,`Shape_Leng`, `Shape_Area`, `zone`, `LocationID`, `borough`, `geometry`.\n",
        "<br><br>\n",
        "\n",
        "Now, the `locationID` here is also what we are using to mark pickup and drop zones in the trip records.\n",
        "\n",
        "The geometric parameters like shape length, shape area and geometry are used to plot the zones on a map.\n",
        "\n",
        "This can be easily done using the `plot()` method."
      ]
    },
    {
      "cell_type": "code",
      "execution_count": null,
      "metadata": {
        "id": "lTqdZChLYE6H"
      },
      "outputs": [],
      "source": [
        "# print(zones.info())\n",
        "# zones.plot()"
      ]
    },
    {
      "cell_type": "markdown",
      "metadata": {
        "id": "fBkWokLIY_BH"
      },
      "source": [
        "Now, you have to merge the trip records and zones data using the location IDs.\n",
        "\n"
      ]
    },
    {
      "cell_type": "markdown",
      "metadata": {
        "id": "YzUMLUjqaJLN"
      },
      "source": [
        "**3.1.10** <font color = red>[3 marks]</font> <br>\n",
        "Merge the zones data into trip data using the `locationID` and `PULocationID` columns."
      ]
    },
    {
      "cell_type": "code",
      "execution_count": null,
      "metadata": {
        "id": "A2L8hWMQaYkX"
      },
      "outputs": [],
      "source": [
        "# Merge zones and trip records using locationID and PULocationID\n",
        "\n"
      ]
    },
    {
      "cell_type": "markdown",
      "metadata": {
        "id": "9CYc36Weai5-"
      },
      "source": [
        "**3.1.11** <font color = red>[3 marks]</font> <br>\n",
        "Group data by location IDs to find the total number of trips per location ID"
      ]
    },
    {
      "cell_type": "code",
      "execution_count": null,
      "metadata": {
        "id": "XpTIaPSSbwZZ"
      },
      "outputs": [],
      "source": [
        "# Group data by location and calculate the number of trips\n",
        "\n"
      ]
    },
    {
      "cell_type": "markdown",
      "metadata": {
        "id": "As0dVJpdcK2_"
      },
      "source": [
        "**3.1.12** <font color = red>[2 marks]</font> <br>\n",
        "Now, use the grouped data to add number of trips to the GeoDataFrame.\n",
        "\n",
        "We will use this to plot a map of zones showing total trips per zone."
      ]
    },
    {
      "cell_type": "code",
      "execution_count": null,
      "metadata": {
        "id": "H9Sheg7vdZ6q"
      },
      "outputs": [],
      "source": [
        "# Merge trip counts back to the zones GeoDataFrame\n",
        "\n",
        "\n"
      ]
    },
    {
      "cell_type": "markdown",
      "metadata": {
        "id": "DsfomL6Od0_R"
      },
      "source": [
        "The next step is creating a color map (choropleth map) showing zones by the number of trips taken.\n",
        "\n",
        "Again, you can use the `zones.plot()` method for this. [Plot Method GPD](https://geopandas.org/en/stable/docs/reference/api/geopandas.GeoDataFrame.plot.html#geopandas.GeoDataFrame.plot)\n",
        "\n",
        "But first, you need to define the figure and axis for the plot.\n",
        "\n",
        "`fig, ax = plt.subplots(1, 1, figsize = (12, 10))`\n",
        "\n",
        "This function creates a figure (fig) and a single subplot (ax)\n",
        "\n",
        "---"
      ]
    },
    {
      "cell_type": "markdown",
      "metadata": {
        "id": "QgDcw8gUejVk"
      },
      "source": [
        "After setting up the figure and axis, we can proceed to plot the GeoDataFrame on this axis. This is done in the next step where we use the plot method of the GeoDataFrame.\n",
        "\n",
        "You can define the following parameters in the `zones.plot()` method:\n",
        "```\n",
        "column = '',\n",
        "ax = ax,\n",
        "legend = True,\n",
        "legend_kwds = {'label': \"label\", 'orientation': \"<horizontal/vertical>\"}\n",
        "```\n",
        "\n",
        "To display the plot, use `plt.show()`."
      ]
    },
    {
      "cell_type": "markdown",
      "metadata": {
        "id": "xFQmkJipfU1P"
      },
      "source": [
        "**3.1.13** <font color = red>[3 marks]</font> <br>\n",
        "Plot a color-coded map showing zone-wise trips"
      ]
    },
    {
      "cell_type": "code",
      "execution_count": null,
      "metadata": {
        "id": "i506kVTgefM5"
      },
      "outputs": [],
      "source": [
        "# Define figure and axis\n",
        "\n",
        "\n",
        "# Plot the map and display it\n",
        "\n"
      ]
    },
    {
      "cell_type": "code",
      "execution_count": null,
      "metadata": {
        "id": "gwDs7OaBSopP"
      },
      "outputs": [],
      "source": [
        "# can you try displaying the zones DF sorted by the number of trips?\n",
        "\n"
      ]
    },
    {
      "cell_type": "markdown",
      "metadata": {
        "id": "T1bE7-QbgSrZ"
      },
      "source": [
        "Here we have completed the temporal, financial and geographical analysis on the trip records.\n",
        "\n",
        "**Compile your findings from general analysis below:**"
      ]
    },
    {
      "cell_type": "markdown",
      "metadata": {
        "id": "7YiVFIX3gcL3"
      },
      "source": [
        "You can consider the following points:\n",
        "\n",
        "* Busiest hours, days and months\n",
        "* Trends in revenue collected\n",
        "* Trends in quarterly revenue\n",
        "* How fare depends on trip distance, trip duration and passenger counts\n",
        "* How tip amount depends on trip distance\n",
        "* Busiest zones\n"
      ]
    },
    {
      "cell_type": "markdown",
      "metadata": {
        "id": "Rv0oYLcbhOTU"
      },
      "source": [
        "#### **3.2** Detailed EDA: Insights and Strategies\n",
        "<font color = red>[50 marks]</font> <br>"
      ]
    },
    {
      "cell_type": "markdown",
      "metadata": {
        "id": "xWJk-CGihnU1"
      },
      "source": [
        "Having performed basic analyses for finding trends and patterns, we will now move on to some detailed analysis focussed on operational efficiency, pricing strategies, and customer experience."
      ]
    },
    {
      "cell_type": "markdown",
      "metadata": {
        "id": "XBY2Y4Jrz9IQ"
      },
      "source": [
        "##### Operational Efficiency"
      ]
    },
    {
      "cell_type": "markdown",
      "metadata": {
        "id": "BXU8Q3sGjGnE"
      },
      "source": [
        "Analyze variations by time of day and location to identify bottlenecks or inefficiencies in routes"
      ]
    },
    {
      "cell_type": "markdown",
      "metadata": {
        "id": "H97VPqVdq7Lz"
      },
      "source": [
        "**3.2.1** <font color = red>[3 marks]</font> <br>\n",
        "Identify slow routes by calculating the average time taken by cabs to get from one zone to another at different hours of the day."
      ]
    },
    {
      "cell_type": "markdown",
      "metadata": {
        "id": "NzTRZyw2q9IR"
      },
      "source": [
        "Speed on a route *X* for hour *Y* = (*distance of the route X / average trip duration for hour Y*)"
      ]
    },
    {
      "cell_type": "code",
      "execution_count": null,
      "metadata": {
        "id": "Ovf-1vIyhk7E"
      },
      "outputs": [],
      "source": [
        "# Find routes which have the slowest speeds at different times of the day\n",
        "\n"
      ]
    },
    {
      "cell_type": "markdown",
      "metadata": {
        "id": "NmRPbH3rm2Ub"
      },
      "source": [
        "How does identifying high-traffic, high-demand routes help us?"
      ]
    },
    {
      "cell_type": "markdown",
      "metadata": {
        "id": "7-w-OCB_nLmb"
      },
      "source": [
        "**3.2.2** <font color = red>[3 marks]</font> <br>\n",
        "Calculate the number of trips at each hour of the day and visualise them. Find the busiest hour and show the number of trips for that hour."
      ]
    },
    {
      "cell_type": "code",
      "execution_count": null,
      "metadata": {
        "id": "BEbRCT31nLUw"
      },
      "outputs": [],
      "source": [
        "# Visualise the number of trips per hour and find the busiest hour\n",
        "\n"
      ]
    },
    {
      "cell_type": "markdown",
      "metadata": {
        "id": "8FuSAA0zn3F4"
      },
      "source": [
        "Remember, we took a fraction of trips. To find the actual number, you have to scale the number up by the sampling ratio."
      ]
    },
    {
      "cell_type": "markdown",
      "metadata": {
        "id": "bapn075QrKaz"
      },
      "source": [
        "**3.2.3** <font color = red>[2 mark]</font> <br>\n",
        "Find the actual number of trips in the five busiest hours"
      ]
    },
    {
      "cell_type": "code",
      "execution_count": null,
      "metadata": {
        "id": "79Hy-YWOoapQ"
      },
      "outputs": [],
      "source": [
        "# Scale up the number of trips\n",
        "\n",
        "# Fill in the value of your sampling fraction and use that to scale up the numbers\n",
        "sample_fraction =\n",
        "\n"
      ]
    },
    {
      "cell_type": "markdown",
      "metadata": {
        "id": "74fhoLxEoaTP"
      },
      "source": [
        "**3.2.4** <font color = red>[3 marks]</font> <br>\n",
        "Compare hourly traffic pattern on weekdays. Also compare for weekend."
      ]
    },
    {
      "cell_type": "code",
      "execution_count": null,
      "metadata": {
        "id": "sYMmCQHwpFRY"
      },
      "outputs": [],
      "source": [
        "# Compare traffic trends for the week days and weekends\n",
        "\n"
      ]
    },
    {
      "cell_type": "markdown",
      "metadata": {
        "id": "tWeuAulNpSOL"
      },
      "source": [
        "What can you infer from the above patterns? How will finding busy and quiet hours for each day help us?"
      ]
    },
    {
      "cell_type": "markdown",
      "metadata": {
        "id": "-S90VG94rGUm"
      },
      "source": [
        "**3.2.5** <font color = red>[3 marks]</font> <br>\n",
        "Identify top 10 zones with high hourly pickups. Do the same for hourly dropoffs. Show pickup and dropoff trends in these zones."
      ]
    },
    {
      "cell_type": "code",
      "execution_count": null,
      "metadata": {
        "id": "-nJGifJFrslP"
      },
      "outputs": [],
      "source": [
        "# Find top 10 pickup and dropoff zones\n",
        "\n"
      ]
    },
    {
      "cell_type": "markdown",
      "metadata": {
        "id": "okkQ17VssMqP"
      },
      "source": [
        "**3.2.6** <font color = red>[3 marks]</font> <br>\n",
        "Find the ratio of pickups and dropoffs in each zone. Display the 10 highest (pickup/drop) and 10 lowest (pickup/drop) ratios."
      ]
    },
    {
      "cell_type": "code",
      "execution_count": null,
      "metadata": {
        "id": "Qbuc8y-KgeDR"
      },
      "outputs": [],
      "source": [
        "# Find the top 10 and bottom 10 pickup/dropoff ratios\n",
        "\n"
      ]
    },
    {
      "cell_type": "markdown",
      "metadata": {
        "id": "2j1ukv-rrxny"
      },
      "source": [
        "**3.2.7** <font color = red>[3 marks]</font> <br>\n",
        "Identify zones with high pickup and dropoff traffic during night hours (11PM to 5AM)"
      ]
    },
    {
      "cell_type": "code",
      "execution_count": null,
      "metadata": {
        "id": "ve65f0GltyE_"
      },
      "outputs": [],
      "source": [
        "# During night hours (11pm to 5am) find the top 10 pickup and dropoff zones\n",
        "# Note that the top zones should be of night hours and not the overall top zones\n",
        "\n"
      ]
    },
    {
      "cell_type": "markdown",
      "metadata": {
        "id": "OtPTHyhTNnNL"
      },
      "source": [
        "Now, let us find the revenue share for the night time hours and the day time hours. After this, we will move to deciding a pricing strategy.\n",
        "\n",
        "**3.2.8** <font color = red>[2 marks]</font> <br>\n",
        "Find the revenue share for nighttime and daytime hours."
      ]
    },
    {
      "cell_type": "code",
      "execution_count": null,
      "metadata": {
        "id": "0ohk4curNl3g"
      },
      "outputs": [],
      "source": [
        "# Filter for night hours (11 PM to 5 AM)\n",
        "\n"
      ]
    },
    {
      "cell_type": "markdown",
      "metadata": {
        "id": "nG77smP4tyWu"
      },
      "source": [
        "##### Pricing Strategy"
      ]
    },
    {
      "cell_type": "markdown",
      "metadata": {
        "id": "ciF6eThit5IH"
      },
      "source": [
        "**3.2.9** <font color = red>[2 marks]</font> <br>\n",
        "For the different passenger counts, find the average fare per mile per passenger.\n",
        "\n",
        "For instance, suppose the average fare per mile for trips with 3 passengers is 3 USD/mile, then the fare per mile per passenger will be 1 USD/mile."
      ]
    },
    {
      "cell_type": "code",
      "execution_count": null,
      "metadata": {
        "id": "AO7MIuXd9C16"
      },
      "outputs": [],
      "source": [
        "# Analyse the fare per mile per passenger for different passenger counts\n",
        "\n",
        "\n"
      ]
    },
    {
      "cell_type": "markdown",
      "metadata": {
        "id": "WZrN-cxR9DIb"
      },
      "source": [
        "**3.2.10** <font color = red>[3 marks]</font> <br>\n",
        "Find the average fare per mile by hours of the day and by days of the week"
      ]
    },
    {
      "cell_type": "code",
      "execution_count": null,
      "metadata": {
        "id": "hUzCJm2y9SOq"
      },
      "outputs": [],
      "source": [
        "# Compare the average fare per mile for different days and for different times of the day\n",
        "\n"
      ]
    },
    {
      "cell_type": "markdown",
      "metadata": {
        "id": "211WFkhHDUMG"
      },
      "source": [
        "**3.2.11** <font color = red>[3 marks]</font> <br>\n",
        "Analyse the average fare per mile for the different vendors for different hours of the day"
      ]
    },
    {
      "cell_type": "code",
      "execution_count": null,
      "metadata": {
        "id": "my3cGHL1DU04"
      },
      "outputs": [],
      "source": [
        "# Compare fare per mile for different vendors\n",
        "\n"
      ]
    },
    {
      "cell_type": "markdown",
      "metadata": {
        "id": "FH9YJdodtDk4"
      },
      "source": [
        "**3.2.12** <font color = red>[5 marks]</font> <br>\n",
        "Compare the fare rates of the different vendors in a tiered fashion. Analyse the average fare per mile for distances upto 2 miles. Analyse the fare per mile for distances from 2 to 5 miles. And then for distances more than 5 miles.\n"
      ]
    },
    {
      "cell_type": "code",
      "execution_count": null,
      "metadata": {
        "id": "TFRPgO7mgEeT"
      },
      "outputs": [],
      "source": [
        "# Defining distance tiers\n",
        "\n"
      ]
    },
    {
      "cell_type": "markdown",
      "metadata": {
        "id": "M2o6xY0Yh6Gv"
      },
      "source": [
        "##### Customer Experience and Other Factors"
      ]
    },
    {
      "cell_type": "markdown",
      "metadata": {
        "id": "VSneN-rCh6Gw"
      },
      "source": [
        "**3.2.13** <font color = red>[5 marks]</font> <br>\n",
        "Analyse average tip percentages based on trip distances, passenger counts and time of pickup. What factors lead to low tip percentages?"
      ]
    },
    {
      "cell_type": "code",
      "execution_count": null,
      "metadata": {
        "id": "LO5WazK8h6Gx"
      },
      "outputs": [],
      "source": [
        "#  Analyze tip percentages based on distances, passenger counts and pickup times\n",
        "\n"
      ]
    },
    {
      "cell_type": "markdown",
      "metadata": {
        "id": "wQAIQsrcLm6X"
      },
      "source": [
        "Additional analysis [optional]: Let's try comparing cases of low tips with cases of high tips to find out if we find a clear aspect that drives up the tipping behaviours"
      ]
    },
    {
      "cell_type": "code",
      "execution_count": null,
      "metadata": {
        "collapsed": true,
        "id": "QYoUed6Dn6YW"
      },
      "outputs": [],
      "source": [
        "# Compare trips with tip percentage < 10% to trips with tip percentage > 25%\n",
        "\n"
      ]
    },
    {
      "cell_type": "markdown",
      "metadata": {
        "id": "0UjvGTRKh6Gx"
      },
      "source": [
        "**3.2.14** <font color = red>[3 marks]</font> <br>\n",
        "Analyse the variation of passenger count across hours and days of the week."
      ]
    },
    {
      "cell_type": "code",
      "execution_count": null,
      "metadata": {
        "id": "rFP0DNRvh6Gx"
      },
      "outputs": [],
      "source": [
        "# See how passenger count varies across hours and days\n",
        "\n",
        "\n"
      ]
    },
    {
      "cell_type": "markdown",
      "metadata": {
        "id": "zWKLLlb7h6Gy"
      },
      "source": [
        "**3.2.15** <font color = red>[2 marks]</font> <br>\n",
        "Analyse the variation of passenger counts across zones"
      ]
    },
    {
      "cell_type": "code",
      "execution_count": null,
      "metadata": {
        "id": "30h27Uz2h6Gy"
      },
      "outputs": [],
      "source": [
        "# How does passenger count vary across zones\n",
        "\n"
      ]
    },
    {
      "cell_type": "code",
      "execution_count": null,
      "metadata": {
        "id": "C3I0AfOkvBWA"
      },
      "outputs": [],
      "source": [
        "# For a more detailed analysis, we can use the zones_with_trips GeoDataFrame\n",
        "# Create a new column for the average passenger count in each zone.\n",
        "\n"
      ]
    },
    {
      "cell_type": "markdown",
      "metadata": {
        "id": "rw0j5Z-1h6Gz"
      },
      "source": [
        "Find out how often surcharges/extra charges are applied to understand their prevalance"
      ]
    },
    {
      "cell_type": "markdown",
      "metadata": {
        "id": "x9IHjHFBx6Ye"
      },
      "source": [
        "**3.2.16** <font color = red>[5 marks]</font> <br>\n",
        "Analyse the pickup/dropoff zones or times when extra charges are applied more frequently"
      ]
    },
    {
      "cell_type": "code",
      "execution_count": null,
      "metadata": {
        "id": "nKbXwZJwh6Gz"
      },
      "outputs": [],
      "source": [
        "# How often is each surcharge applied?\n",
        "\n"
      ]
    },
    {
      "cell_type": "markdown",
      "metadata": {
        "id": "bkyc9q40Cts-"
      },
      "source": [
        "## **4** Conclusion\n",
        "<font color = red>[15 marks]</font> <br>"
      ]
    },
    {
      "cell_type": "markdown",
      "metadata": {
        "id": "Z5yCODI-C6yR"
      },
      "source": [
        "### **4.1** Final Insights and Recommendations\n",
        "<font color = red>[15 marks]</font> <br>\n",
        "\n",
        "Conclude your analyses here. Include all the outcomes you found based on the analysis.\n",
        "\n",
        "Based on the insights, frame a concluding story explaining suitable parameters such as location, time of the day, day of the week etc. to be kept in mind while devising a strategy to meet customer demand and optimise supply."
      ]
    },
    {
      "cell_type": "markdown",
      "metadata": {
        "id": "0dy8J-C8jJjk"
      },
      "source": [
        "**4.1.1** <font color = red>[5 marks]</font> <br>\n",
        "Recommendations to optimize routing and dispatching based on demand patterns and operational inefficiencies"
      ]
    },
    {
      "cell_type": "code",
      "execution_count": null,
      "metadata": {
        "id": "J03px17x_rD9"
      },
      "outputs": [],
      "source": []
    },
    {
      "cell_type": "markdown",
      "metadata": {
        "id": "AaLgTWxpjt7h"
      },
      "source": [
        "**4.1.2** <font color = red>[5 marks]</font> <br>\n",
        "\n",
        "Suggestions on strategically positioning cabs across different zones to make best use of insights uncovered by analysing trip trends across time, days and months."
      ]
    },
    {
      "cell_type": "code",
      "execution_count": null,
      "metadata": {
        "id": "c8ZbTIF7_rsN"
      },
      "outputs": [],
      "source": []
    },
    {
      "cell_type": "markdown",
      "metadata": {
        "id": "mUU4mn50jMZy"
      },
      "source": [
        "**4.1.3** <font color = red>[5 marks]</font> <br>\n",
        "Propose data-driven adjustments to the pricing strategy to maximize revenue while maintaining competitive rates with other vendors."
      ]
    },
    {
      "cell_type": "code",
      "execution_count": null,
      "metadata": {
        "id": "SXErHFjx_sGN"
      },
      "outputs": [],
      "source": []
    }
  ],
  "metadata": {
    "colab": {
      "collapsed_sections": [
        "-OVfUMlHFkZD",
        "0eaCZjHIvfuI",
        "Kw-WRzBfyS7j",
        "nM2X-s6lycvQ",
        "NgHgbPIepaYl",
        "QaOS3H9izZ0N",
        "HZvPSwJx0S3K",
        "x2hakCCy6wXI",
        "2jyQyYIpCztl",
        "gPpJyFFNffcL",
        "a4N3PvkSTwcN",
        "MbGMjArkiXjL",
        "23IqsgNjHNpJ",
        "CVXxcSYHj9sh",
        "Rv0oYLcbhOTU",
        "XBY2Y4Jrz9IQ",
        "nG77smP4tyWu",
        "M2o6xY0Yh6Gv",
        "bkyc9q40Cts-",
        "Z5yCODI-C6yR"
      ],
      "provenance": [],
      "include_colab_link": true
    },
    "kernelspec": {
      "display_name": "Python 3",
      "name": "python3"
    },
    "language_info": {
      "name": "python"
    }
  },
  "nbformat": 4,
  "nbformat_minor": 0
}